{
 "cells": [
  {
   "cell_type": "code",
   "execution_count": 1,
   "id": "67c1d148",
   "metadata": {
    "execution": {
     "iopub.execute_input": "2025-06-02T19:11:13.180235Z",
     "iopub.status.busy": "2025-06-02T19:11:13.179816Z",
     "iopub.status.idle": "2025-06-02T19:11:15.059299Z",
     "shell.execute_reply": "2025-06-02T19:11:15.058337Z"
    },
    "papermill": {
     "duration": 1.894303,
     "end_time": "2025-06-02T19:11:15.061083",
     "exception": false,
     "start_time": "2025-06-02T19:11:13.166780",
     "status": "completed"
    },
    "tags": []
   },
   "outputs": [],
   "source": [
    "#to change and work with dataframes\n",
    "import pandas as pd\n",
    "from math import sqrt\n",
    "import numpy as np\n",
    "import matplotlib.pyplot as plt\n",
    "%matplotlib inline"
   ]
  },
  {
   "cell_type": "markdown",
   "id": "794e564d",
   "metadata": {
    "papermill": {
     "duration": 0.010346,
     "end_time": "2025-06-02T19:11:15.082188",
     "exception": false,
     "start_time": "2025-06-02T19:11:15.071842",
     "status": "completed"
    },
    "tags": []
   },
   "source": [
    "<h2>Content based Filtering</h2>"
   ]
  },
  {
   "cell_type": "markdown",
   "id": "34f30f53",
   "metadata": {
    "papermill": {
     "duration": 0.009709,
     "end_time": "2025-06-02T19:11:15.101969",
     "exception": false,
     "start_time": "2025-06-02T19:11:15.092260",
     "status": "completed"
    },
    "tags": []
   },
   "source": [
    "reading and entering csv files with pandas as dataframe"
   ]
  },
  {
   "cell_type": "code",
   "execution_count": 2,
   "id": "4046d785",
   "metadata": {
    "execution": {
     "iopub.execute_input": "2025-06-02T19:11:15.123934Z",
     "iopub.status.busy": "2025-06-02T19:11:15.123519Z",
     "iopub.status.idle": "2025-06-02T19:11:33.434927Z",
     "shell.execute_reply": "2025-06-02T19:11:33.434059Z"
    },
    "papermill": {
     "duration": 18.324006,
     "end_time": "2025-06-02T19:11:33.436543",
     "exception": false,
     "start_time": "2025-06-02T19:11:15.112537",
     "status": "completed"
    },
    "tags": []
   },
   "outputs": [],
   "source": [
    "movies_df = pd.read_csv('/kaggle/input/movie-recommendation-system/movies.csv')\n",
    "ratings_df = pd.read_csv('/kaggle/input/movie-recommendation-system/ratings.csv')"
   ]
  },
  {
   "cell_type": "markdown",
   "id": "ed62be9c",
   "metadata": {
    "papermill": {
     "duration": 0.010403,
     "end_time": "2025-06-02T19:11:33.457548",
     "exception": false,
     "start_time": "2025-06-02T19:11:33.447145",
     "status": "completed"
    },
    "tags": []
   },
   "source": [
    "using head function to analyze and see the dataframe. default shows 5 rows."
   ]
  },
  {
   "cell_type": "code",
   "execution_count": 3,
   "id": "20468a56",
   "metadata": {
    "execution": {
     "iopub.execute_input": "2025-06-02T19:11:33.478744Z",
     "iopub.status.busy": "2025-06-02T19:11:33.478421Z",
     "iopub.status.idle": "2025-06-02T19:11:33.503218Z",
     "shell.execute_reply": "2025-06-02T19:11:33.502292Z"
    },
    "papermill": {
     "duration": 0.037444,
     "end_time": "2025-06-02T19:11:33.504998",
     "exception": false,
     "start_time": "2025-06-02T19:11:33.467554",
     "status": "completed"
    },
    "tags": []
   },
   "outputs": [
    {
     "data": {
      "text/html": [
       "<div>\n",
       "<style scoped>\n",
       "    .dataframe tbody tr th:only-of-type {\n",
       "        vertical-align: middle;\n",
       "    }\n",
       "\n",
       "    .dataframe tbody tr th {\n",
       "        vertical-align: top;\n",
       "    }\n",
       "\n",
       "    .dataframe thead th {\n",
       "        text-align: right;\n",
       "    }\n",
       "</style>\n",
       "<table border=\"1\" class=\"dataframe\">\n",
       "  <thead>\n",
       "    <tr style=\"text-align: right;\">\n",
       "      <th></th>\n",
       "      <th>movieId</th>\n",
       "      <th>title</th>\n",
       "      <th>genres</th>\n",
       "    </tr>\n",
       "  </thead>\n",
       "  <tbody>\n",
       "    <tr>\n",
       "      <th>0</th>\n",
       "      <td>1</td>\n",
       "      <td>Toy Story (1995)</td>\n",
       "      <td>Adventure|Animation|Children|Comedy|Fantasy</td>\n",
       "    </tr>\n",
       "    <tr>\n",
       "      <th>1</th>\n",
       "      <td>2</td>\n",
       "      <td>Jumanji (1995)</td>\n",
       "      <td>Adventure|Children|Fantasy</td>\n",
       "    </tr>\n",
       "    <tr>\n",
       "      <th>2</th>\n",
       "      <td>3</td>\n",
       "      <td>Grumpier Old Men (1995)</td>\n",
       "      <td>Comedy|Romance</td>\n",
       "    </tr>\n",
       "    <tr>\n",
       "      <th>3</th>\n",
       "      <td>4</td>\n",
       "      <td>Waiting to Exhale (1995)</td>\n",
       "      <td>Comedy|Drama|Romance</td>\n",
       "    </tr>\n",
       "    <tr>\n",
       "      <th>4</th>\n",
       "      <td>5</td>\n",
       "      <td>Father of the Bride Part II (1995)</td>\n",
       "      <td>Comedy</td>\n",
       "    </tr>\n",
       "  </tbody>\n",
       "</table>\n",
       "</div>"
      ],
      "text/plain": [
       "   movieId                               title  \\\n",
       "0        1                    Toy Story (1995)   \n",
       "1        2                      Jumanji (1995)   \n",
       "2        3             Grumpier Old Men (1995)   \n",
       "3        4            Waiting to Exhale (1995)   \n",
       "4        5  Father of the Bride Part II (1995)   \n",
       "\n",
       "                                        genres  \n",
       "0  Adventure|Animation|Children|Comedy|Fantasy  \n",
       "1                   Adventure|Children|Fantasy  \n",
       "2                               Comedy|Romance  \n",
       "3                         Comedy|Drama|Romance  \n",
       "4                                       Comedy  "
      ]
     },
     "execution_count": 3,
     "metadata": {},
     "output_type": "execute_result"
    }
   ],
   "source": [
    "movies_df.head()"
   ]
  },
  {
   "cell_type": "code",
   "execution_count": 4,
   "id": "1dc5ec43",
   "metadata": {
    "execution": {
     "iopub.execute_input": "2025-06-02T19:11:33.527528Z",
     "iopub.status.busy": "2025-06-02T19:11:33.527206Z",
     "iopub.status.idle": "2025-06-02T19:11:33.536876Z",
     "shell.execute_reply": "2025-06-02T19:11:33.536120Z"
    },
    "papermill": {
     "duration": 0.02255,
     "end_time": "2025-06-02T19:11:33.538161",
     "exception": false,
     "start_time": "2025-06-02T19:11:33.515611",
     "status": "completed"
    },
    "tags": []
   },
   "outputs": [
    {
     "data": {
      "text/html": [
       "<div>\n",
       "<style scoped>\n",
       "    .dataframe tbody tr th:only-of-type {\n",
       "        vertical-align: middle;\n",
       "    }\n",
       "\n",
       "    .dataframe tbody tr th {\n",
       "        vertical-align: top;\n",
       "    }\n",
       "\n",
       "    .dataframe thead th {\n",
       "        text-align: right;\n",
       "    }\n",
       "</style>\n",
       "<table border=\"1\" class=\"dataframe\">\n",
       "  <thead>\n",
       "    <tr style=\"text-align: right;\">\n",
       "      <th></th>\n",
       "      <th>userId</th>\n",
       "      <th>movieId</th>\n",
       "      <th>rating</th>\n",
       "      <th>timestamp</th>\n",
       "    </tr>\n",
       "  </thead>\n",
       "  <tbody>\n",
       "    <tr>\n",
       "      <th>0</th>\n",
       "      <td>1</td>\n",
       "      <td>296</td>\n",
       "      <td>5.0</td>\n",
       "      <td>1147880044</td>\n",
       "    </tr>\n",
       "    <tr>\n",
       "      <th>1</th>\n",
       "      <td>1</td>\n",
       "      <td>306</td>\n",
       "      <td>3.5</td>\n",
       "      <td>1147868817</td>\n",
       "    </tr>\n",
       "    <tr>\n",
       "      <th>2</th>\n",
       "      <td>1</td>\n",
       "      <td>307</td>\n",
       "      <td>5.0</td>\n",
       "      <td>1147868828</td>\n",
       "    </tr>\n",
       "    <tr>\n",
       "      <th>3</th>\n",
       "      <td>1</td>\n",
       "      <td>665</td>\n",
       "      <td>5.0</td>\n",
       "      <td>1147878820</td>\n",
       "    </tr>\n",
       "    <tr>\n",
       "      <th>4</th>\n",
       "      <td>1</td>\n",
       "      <td>899</td>\n",
       "      <td>3.5</td>\n",
       "      <td>1147868510</td>\n",
       "    </tr>\n",
       "  </tbody>\n",
       "</table>\n",
       "</div>"
      ],
      "text/plain": [
       "   userId  movieId  rating   timestamp\n",
       "0       1      296     5.0  1147880044\n",
       "1       1      306     3.5  1147868817\n",
       "2       1      307     5.0  1147868828\n",
       "3       1      665     5.0  1147878820\n",
       "4       1      899     3.5  1147868510"
      ]
     },
     "execution_count": 4,
     "metadata": {},
     "output_type": "execute_result"
    }
   ],
   "source": [
    "ratings_df.head()"
   ]
  },
  {
   "cell_type": "markdown",
   "id": "dd996882",
   "metadata": {
    "papermill": {
     "duration": 0.010293,
     "end_time": "2025-06-02T19:11:33.559011",
     "exception": false,
     "start_time": "2025-06-02T19:11:33.548718",
     "status": "completed"
    },
    "tags": []
   },
   "source": [
    "Seprating years of movies from title and creating and moving them to year column"
   ]
  },
  {
   "cell_type": "code",
   "execution_count": 5,
   "id": "3d0555fc",
   "metadata": {
    "execution": {
     "iopub.execute_input": "2025-06-02T19:11:33.581332Z",
     "iopub.status.busy": "2025-06-02T19:11:33.580956Z",
     "iopub.status.idle": "2025-06-02T19:11:33.739938Z",
     "shell.execute_reply": "2025-06-02T19:11:33.739020Z"
    },
    "papermill": {
     "duration": 0.171872,
     "end_time": "2025-06-02T19:11:33.741421",
     "exception": false,
     "start_time": "2025-06-02T19:11:33.569549",
     "status": "completed"
    },
    "tags": []
   },
   "outputs": [
    {
     "data": {
      "text/html": [
       "<div>\n",
       "<style scoped>\n",
       "    .dataframe tbody tr th:only-of-type {\n",
       "        vertical-align: middle;\n",
       "    }\n",
       "\n",
       "    .dataframe tbody tr th {\n",
       "        vertical-align: top;\n",
       "    }\n",
       "\n",
       "    .dataframe thead th {\n",
       "        text-align: right;\n",
       "    }\n",
       "</style>\n",
       "<table border=\"1\" class=\"dataframe\">\n",
       "  <thead>\n",
       "    <tr style=\"text-align: right;\">\n",
       "      <th></th>\n",
       "      <th>movieId</th>\n",
       "      <th>title</th>\n",
       "      <th>genres</th>\n",
       "      <th>year</th>\n",
       "    </tr>\n",
       "  </thead>\n",
       "  <tbody>\n",
       "    <tr>\n",
       "      <th>0</th>\n",
       "      <td>1</td>\n",
       "      <td>Toy Story</td>\n",
       "      <td>Adventure|Animation|Children|Comedy|Fantasy</td>\n",
       "      <td>1995</td>\n",
       "    </tr>\n",
       "    <tr>\n",
       "      <th>1</th>\n",
       "      <td>2</td>\n",
       "      <td>Jumanji</td>\n",
       "      <td>Adventure|Children|Fantasy</td>\n",
       "      <td>1995</td>\n",
       "    </tr>\n",
       "    <tr>\n",
       "      <th>2</th>\n",
       "      <td>3</td>\n",
       "      <td>Grumpier Old Men</td>\n",
       "      <td>Comedy|Romance</td>\n",
       "      <td>1995</td>\n",
       "    </tr>\n",
       "    <tr>\n",
       "      <th>3</th>\n",
       "      <td>4</td>\n",
       "      <td>Waiting to Exhale</td>\n",
       "      <td>Comedy|Drama|Romance</td>\n",
       "      <td>1995</td>\n",
       "    </tr>\n",
       "    <tr>\n",
       "      <th>4</th>\n",
       "      <td>5</td>\n",
       "      <td>Father of the Bride Part II</td>\n",
       "      <td>Comedy</td>\n",
       "      <td>1995</td>\n",
       "    </tr>\n",
       "  </tbody>\n",
       "</table>\n",
       "</div>"
      ],
      "text/plain": [
       "   movieId                        title  \\\n",
       "0        1                    Toy Story   \n",
       "1        2                      Jumanji   \n",
       "2        3             Grumpier Old Men   \n",
       "3        4            Waiting to Exhale   \n",
       "4        5  Father of the Bride Part II   \n",
       "\n",
       "                                        genres  year  \n",
       "0  Adventure|Animation|Children|Comedy|Fantasy  1995  \n",
       "1                   Adventure|Children|Fantasy  1995  \n",
       "2                               Comedy|Romance  1995  \n",
       "3                         Comedy|Drama|Romance  1995  \n",
       "4                                       Comedy  1995  "
      ]
     },
     "execution_count": 5,
     "metadata": {},
     "output_type": "execute_result"
    }
   ],
   "source": [
    "#creating year column in movie dataframe and using extract function with regex on title column to copy the years with parentheses to year column\n",
    "movies_df['year'] = movies_df.title.str.extract(r'(\\(\\d\\d\\d\\d\\))',expand=False)\n",
    "#same method and function but we choose year column this time and choose the years without their parentheses\n",
    "movies_df['year'] = movies_df.year.str.extract(r'(\\d\\d\\d\\d)',expand=False)\n",
    "#using replace function in title to choose the years with parentheses and replace them with nothing, in order to delete them.\n",
    "movies_df['title'] = movies_df['title'].str.replace(r'\\(\\d{4}\\)', '', regex=True)\n",
    "#using strip function to remove any extra space in beginning and end of movies titles\n",
    "movies_df['title'] = movies_df['title'].apply(lambda x: x.strip())\n",
    "movies_df.head()"
   ]
  },
  {
   "cell_type": "markdown",
   "id": "f90288a8",
   "metadata": {
    "papermill": {
     "duration": 0.010312,
     "end_time": "2025-06-02T19:11:33.762585",
     "exception": false,
     "start_time": "2025-06-02T19:11:33.752273",
     "status": "completed"
    },
    "tags": []
   },
   "source": [
    "making genres an array"
   ]
  },
  {
   "cell_type": "code",
   "execution_count": 6,
   "id": "6edfbd3a",
   "metadata": {
    "execution": {
     "iopub.execute_input": "2025-06-02T19:11:33.784756Z",
     "iopub.status.busy": "2025-06-02T19:11:33.784482Z",
     "iopub.status.idle": "2025-06-02T19:11:33.899816Z",
     "shell.execute_reply": "2025-06-02T19:11:33.899045Z"
    },
    "papermill": {
     "duration": 0.128084,
     "end_time": "2025-06-02T19:11:33.901196",
     "exception": false,
     "start_time": "2025-06-02T19:11:33.773112",
     "status": "completed"
    },
    "tags": []
   },
   "outputs": [
    {
     "data": {
      "text/html": [
       "<div>\n",
       "<style scoped>\n",
       "    .dataframe tbody tr th:only-of-type {\n",
       "        vertical-align: middle;\n",
       "    }\n",
       "\n",
       "    .dataframe tbody tr th {\n",
       "        vertical-align: top;\n",
       "    }\n",
       "\n",
       "    .dataframe thead th {\n",
       "        text-align: right;\n",
       "    }\n",
       "</style>\n",
       "<table border=\"1\" class=\"dataframe\">\n",
       "  <thead>\n",
       "    <tr style=\"text-align: right;\">\n",
       "      <th></th>\n",
       "      <th>movieId</th>\n",
       "      <th>title</th>\n",
       "      <th>genres</th>\n",
       "      <th>year</th>\n",
       "    </tr>\n",
       "  </thead>\n",
       "  <tbody>\n",
       "    <tr>\n",
       "      <th>0</th>\n",
       "      <td>1</td>\n",
       "      <td>Toy Story</td>\n",
       "      <td>[Adventure, Animation, Children, Comedy, Fantasy]</td>\n",
       "      <td>1995</td>\n",
       "    </tr>\n",
       "    <tr>\n",
       "      <th>1</th>\n",
       "      <td>2</td>\n",
       "      <td>Jumanji</td>\n",
       "      <td>[Adventure, Children, Fantasy]</td>\n",
       "      <td>1995</td>\n",
       "    </tr>\n",
       "    <tr>\n",
       "      <th>2</th>\n",
       "      <td>3</td>\n",
       "      <td>Grumpier Old Men</td>\n",
       "      <td>[Comedy, Romance]</td>\n",
       "      <td>1995</td>\n",
       "    </tr>\n",
       "    <tr>\n",
       "      <th>3</th>\n",
       "      <td>4</td>\n",
       "      <td>Waiting to Exhale</td>\n",
       "      <td>[Comedy, Drama, Romance]</td>\n",
       "      <td>1995</td>\n",
       "    </tr>\n",
       "    <tr>\n",
       "      <th>4</th>\n",
       "      <td>5</td>\n",
       "      <td>Father of the Bride Part II</td>\n",
       "      <td>[Comedy]</td>\n",
       "      <td>1995</td>\n",
       "    </tr>\n",
       "  </tbody>\n",
       "</table>\n",
       "</div>"
      ],
      "text/plain": [
       "   movieId                        title  \\\n",
       "0        1                    Toy Story   \n",
       "1        2                      Jumanji   \n",
       "2        3             Grumpier Old Men   \n",
       "3        4            Waiting to Exhale   \n",
       "4        5  Father of the Bride Part II   \n",
       "\n",
       "                                              genres  year  \n",
       "0  [Adventure, Animation, Children, Comedy, Fantasy]  1995  \n",
       "1                     [Adventure, Children, Fantasy]  1995  \n",
       "2                                  [Comedy, Romance]  1995  \n",
       "3                           [Comedy, Drama, Romance]  1995  \n",
       "4                                           [Comedy]  1995  "
      ]
     },
     "execution_count": 6,
     "metadata": {},
     "output_type": "execute_result"
    }
   ],
   "source": [
    "#in genres column, genres are seprated with pipe line so we use split function to seprate a string between | and make each an index of an array\n",
    "movies_df['genres'] = movies_df.genres.str.split('|')\n",
    "movies_df.head()"
   ]
  },
  {
   "cell_type": "markdown",
   "id": "45b4ccab",
   "metadata": {
    "papermill": {
     "duration": 0.010234,
     "end_time": "2025-06-02T19:11:33.922481",
     "exception": false,
     "start_time": "2025-06-02T19:11:33.912247",
     "status": "completed"
    },
    "tags": []
   },
   "source": [
    "Making movie matrix with genres as 0 and 1"
   ]
  },
  {
   "cell_type": "code",
   "execution_count": 7,
   "id": "978fb89c",
   "metadata": {
    "execution": {
     "iopub.execute_input": "2025-06-02T19:11:33.945299Z",
     "iopub.status.busy": "2025-06-02T19:11:33.944465Z",
     "iopub.status.idle": "2025-06-02T19:11:39.253967Z",
     "shell.execute_reply": "2025-06-02T19:11:39.253050Z"
    },
    "papermill": {
     "duration": 5.322446,
     "end_time": "2025-06-02T19:11:39.255550",
     "exception": false,
     "start_time": "2025-06-02T19:11:33.933104",
     "status": "completed"
    },
    "tags": []
   },
   "outputs": [
    {
     "data": {
      "text/html": [
       "<div>\n",
       "<style scoped>\n",
       "    .dataframe tbody tr th:only-of-type {\n",
       "        vertical-align: middle;\n",
       "    }\n",
       "\n",
       "    .dataframe tbody tr th {\n",
       "        vertical-align: top;\n",
       "    }\n",
       "\n",
       "    .dataframe thead th {\n",
       "        text-align: right;\n",
       "    }\n",
       "</style>\n",
       "<table border=\"1\" class=\"dataframe\">\n",
       "  <thead>\n",
       "    <tr style=\"text-align: right;\">\n",
       "      <th></th>\n",
       "      <th>movieId</th>\n",
       "      <th>title</th>\n",
       "      <th>genres</th>\n",
       "      <th>year</th>\n",
       "      <th>Adventure</th>\n",
       "      <th>Animation</th>\n",
       "      <th>Children</th>\n",
       "      <th>Comedy</th>\n",
       "      <th>Fantasy</th>\n",
       "      <th>Romance</th>\n",
       "      <th>...</th>\n",
       "      <th>Horror</th>\n",
       "      <th>Mystery</th>\n",
       "      <th>Sci-Fi</th>\n",
       "      <th>IMAX</th>\n",
       "      <th>Documentary</th>\n",
       "      <th>War</th>\n",
       "      <th>Musical</th>\n",
       "      <th>Western</th>\n",
       "      <th>Film-Noir</th>\n",
       "      <th>(no genres listed)</th>\n",
       "    </tr>\n",
       "  </thead>\n",
       "  <tbody>\n",
       "    <tr>\n",
       "      <th>0</th>\n",
       "      <td>1</td>\n",
       "      <td>Toy Story</td>\n",
       "      <td>[Adventure, Animation, Children, Comedy, Fantasy]</td>\n",
       "      <td>1995</td>\n",
       "      <td>1.0</td>\n",
       "      <td>1.0</td>\n",
       "      <td>1.0</td>\n",
       "      <td>1.0</td>\n",
       "      <td>1.0</td>\n",
       "      <td>0.0</td>\n",
       "      <td>...</td>\n",
       "      <td>0.0</td>\n",
       "      <td>0.0</td>\n",
       "      <td>0.0</td>\n",
       "      <td>0.0</td>\n",
       "      <td>0.0</td>\n",
       "      <td>0.0</td>\n",
       "      <td>0.0</td>\n",
       "      <td>0.0</td>\n",
       "      <td>0.0</td>\n",
       "      <td>0.0</td>\n",
       "    </tr>\n",
       "    <tr>\n",
       "      <th>1</th>\n",
       "      <td>2</td>\n",
       "      <td>Jumanji</td>\n",
       "      <td>[Adventure, Children, Fantasy]</td>\n",
       "      <td>1995</td>\n",
       "      <td>1.0</td>\n",
       "      <td>0.0</td>\n",
       "      <td>1.0</td>\n",
       "      <td>0.0</td>\n",
       "      <td>1.0</td>\n",
       "      <td>0.0</td>\n",
       "      <td>...</td>\n",
       "      <td>0.0</td>\n",
       "      <td>0.0</td>\n",
       "      <td>0.0</td>\n",
       "      <td>0.0</td>\n",
       "      <td>0.0</td>\n",
       "      <td>0.0</td>\n",
       "      <td>0.0</td>\n",
       "      <td>0.0</td>\n",
       "      <td>0.0</td>\n",
       "      <td>0.0</td>\n",
       "    </tr>\n",
       "    <tr>\n",
       "      <th>2</th>\n",
       "      <td>3</td>\n",
       "      <td>Grumpier Old Men</td>\n",
       "      <td>[Comedy, Romance]</td>\n",
       "      <td>1995</td>\n",
       "      <td>0.0</td>\n",
       "      <td>0.0</td>\n",
       "      <td>0.0</td>\n",
       "      <td>1.0</td>\n",
       "      <td>0.0</td>\n",
       "      <td>1.0</td>\n",
       "      <td>...</td>\n",
       "      <td>0.0</td>\n",
       "      <td>0.0</td>\n",
       "      <td>0.0</td>\n",
       "      <td>0.0</td>\n",
       "      <td>0.0</td>\n",
       "      <td>0.0</td>\n",
       "      <td>0.0</td>\n",
       "      <td>0.0</td>\n",
       "      <td>0.0</td>\n",
       "      <td>0.0</td>\n",
       "    </tr>\n",
       "    <tr>\n",
       "      <th>3</th>\n",
       "      <td>4</td>\n",
       "      <td>Waiting to Exhale</td>\n",
       "      <td>[Comedy, Drama, Romance]</td>\n",
       "      <td>1995</td>\n",
       "      <td>0.0</td>\n",
       "      <td>0.0</td>\n",
       "      <td>0.0</td>\n",
       "      <td>1.0</td>\n",
       "      <td>0.0</td>\n",
       "      <td>1.0</td>\n",
       "      <td>...</td>\n",
       "      <td>0.0</td>\n",
       "      <td>0.0</td>\n",
       "      <td>0.0</td>\n",
       "      <td>0.0</td>\n",
       "      <td>0.0</td>\n",
       "      <td>0.0</td>\n",
       "      <td>0.0</td>\n",
       "      <td>0.0</td>\n",
       "      <td>0.0</td>\n",
       "      <td>0.0</td>\n",
       "    </tr>\n",
       "    <tr>\n",
       "      <th>4</th>\n",
       "      <td>5</td>\n",
       "      <td>Father of the Bride Part II</td>\n",
       "      <td>[Comedy]</td>\n",
       "      <td>1995</td>\n",
       "      <td>0.0</td>\n",
       "      <td>0.0</td>\n",
       "      <td>0.0</td>\n",
       "      <td>1.0</td>\n",
       "      <td>0.0</td>\n",
       "      <td>0.0</td>\n",
       "      <td>...</td>\n",
       "      <td>0.0</td>\n",
       "      <td>0.0</td>\n",
       "      <td>0.0</td>\n",
       "      <td>0.0</td>\n",
       "      <td>0.0</td>\n",
       "      <td>0.0</td>\n",
       "      <td>0.0</td>\n",
       "      <td>0.0</td>\n",
       "      <td>0.0</td>\n",
       "      <td>0.0</td>\n",
       "    </tr>\n",
       "  </tbody>\n",
       "</table>\n",
       "<p>5 rows × 24 columns</p>\n",
       "</div>"
      ],
      "text/plain": [
       "   movieId                        title  \\\n",
       "0        1                    Toy Story   \n",
       "1        2                      Jumanji   \n",
       "2        3             Grumpier Old Men   \n",
       "3        4            Waiting to Exhale   \n",
       "4        5  Father of the Bride Part II   \n",
       "\n",
       "                                              genres  year  Adventure  \\\n",
       "0  [Adventure, Animation, Children, Comedy, Fantasy]  1995        1.0   \n",
       "1                     [Adventure, Children, Fantasy]  1995        1.0   \n",
       "2                                  [Comedy, Romance]  1995        0.0   \n",
       "3                           [Comedy, Drama, Romance]  1995        0.0   \n",
       "4                                           [Comedy]  1995        0.0   \n",
       "\n",
       "   Animation  Children  Comedy  Fantasy  Romance  ...  Horror  Mystery  \\\n",
       "0        1.0       1.0     1.0      1.0      0.0  ...     0.0      0.0   \n",
       "1        0.0       1.0     0.0      1.0      0.0  ...     0.0      0.0   \n",
       "2        0.0       0.0     1.0      0.0      1.0  ...     0.0      0.0   \n",
       "3        0.0       0.0     1.0      0.0      1.0  ...     0.0      0.0   \n",
       "4        0.0       0.0     1.0      0.0      0.0  ...     0.0      0.0   \n",
       "\n",
       "   Sci-Fi  IMAX  Documentary  War  Musical  Western  Film-Noir  \\\n",
       "0     0.0   0.0          0.0  0.0      0.0      0.0        0.0   \n",
       "1     0.0   0.0          0.0  0.0      0.0      0.0        0.0   \n",
       "2     0.0   0.0          0.0  0.0      0.0      0.0        0.0   \n",
       "3     0.0   0.0          0.0  0.0      0.0      0.0        0.0   \n",
       "4     0.0   0.0          0.0  0.0      0.0      0.0        0.0   \n",
       "\n",
       "   (no genres listed)  \n",
       "0                 0.0  \n",
       "1                 0.0  \n",
       "2                 0.0  \n",
       "3                 0.0  \n",
       "4                 0.0  \n",
       "\n",
       "[5 rows x 24 columns]"
      ]
     },
     "execution_count": 7,
     "metadata": {},
     "output_type": "execute_result"
    }
   ],
   "source": [
    "#Copying movie dataframe to new dataframe to not change the first one\n",
    "moviesWithGenres_df = movies_df.copy()\n",
    "\n",
    "#for every index in every row (movie) iterrates \n",
    "for index, row in movies_df.iterrows():\n",
    "    #for every index in genres array, make a column if not existed named that genre and write 1 for its value\n",
    "    for genre in row['genres']:\n",
    "        moviesWithGenres_df.at[index, genre] = 1\n",
    "#naturally there are rows that doesnt have value (Nan) cause they didnt have that genre so, we fill them instead with 0 \n",
    "moviesWithGenres_df = moviesWithGenres_df.fillna(0)\n",
    "moviesWithGenres_df.head()"
   ]
  },
  {
   "cell_type": "code",
   "execution_count": 8,
   "id": "04280b35",
   "metadata": {
    "execution": {
     "iopub.execute_input": "2025-06-02T19:11:39.279126Z",
     "iopub.status.busy": "2025-06-02T19:11:39.278358Z",
     "iopub.status.idle": "2025-06-02T19:11:39.287186Z",
     "shell.execute_reply": "2025-06-02T19:11:39.286249Z"
    },
    "papermill": {
     "duration": 0.021958,
     "end_time": "2025-06-02T19:11:39.288587",
     "exception": false,
     "start_time": "2025-06-02T19:11:39.266629",
     "status": "completed"
    },
    "tags": []
   },
   "outputs": [
    {
     "data": {
      "text/html": [
       "<div>\n",
       "<style scoped>\n",
       "    .dataframe tbody tr th:only-of-type {\n",
       "        vertical-align: middle;\n",
       "    }\n",
       "\n",
       "    .dataframe tbody tr th {\n",
       "        vertical-align: top;\n",
       "    }\n",
       "\n",
       "    .dataframe thead th {\n",
       "        text-align: right;\n",
       "    }\n",
       "</style>\n",
       "<table border=\"1\" class=\"dataframe\">\n",
       "  <thead>\n",
       "    <tr style=\"text-align: right;\">\n",
       "      <th></th>\n",
       "      <th>userId</th>\n",
       "      <th>movieId</th>\n",
       "      <th>rating</th>\n",
       "      <th>timestamp</th>\n",
       "    </tr>\n",
       "  </thead>\n",
       "  <tbody>\n",
       "    <tr>\n",
       "      <th>0</th>\n",
       "      <td>1</td>\n",
       "      <td>296</td>\n",
       "      <td>5.0</td>\n",
       "      <td>1147880044</td>\n",
       "    </tr>\n",
       "    <tr>\n",
       "      <th>1</th>\n",
       "      <td>1</td>\n",
       "      <td>306</td>\n",
       "      <td>3.5</td>\n",
       "      <td>1147868817</td>\n",
       "    </tr>\n",
       "    <tr>\n",
       "      <th>2</th>\n",
       "      <td>1</td>\n",
       "      <td>307</td>\n",
       "      <td>5.0</td>\n",
       "      <td>1147868828</td>\n",
       "    </tr>\n",
       "    <tr>\n",
       "      <th>3</th>\n",
       "      <td>1</td>\n",
       "      <td>665</td>\n",
       "      <td>5.0</td>\n",
       "      <td>1147878820</td>\n",
       "    </tr>\n",
       "    <tr>\n",
       "      <th>4</th>\n",
       "      <td>1</td>\n",
       "      <td>899</td>\n",
       "      <td>3.5</td>\n",
       "      <td>1147868510</td>\n",
       "    </tr>\n",
       "  </tbody>\n",
       "</table>\n",
       "</div>"
      ],
      "text/plain": [
       "   userId  movieId  rating   timestamp\n",
       "0       1      296     5.0  1147880044\n",
       "1       1      306     3.5  1147868817\n",
       "2       1      307     5.0  1147868828\n",
       "3       1      665     5.0  1147878820\n",
       "4       1      899     3.5  1147868510"
      ]
     },
     "execution_count": 8,
     "metadata": {},
     "output_type": "execute_result"
    }
   ],
   "source": [
    "ratings_df.head()"
   ]
  },
  {
   "cell_type": "markdown",
   "id": "4b406fe9",
   "metadata": {
    "papermill": {
     "duration": 0.011075,
     "end_time": "2025-06-02T19:11:39.310925",
     "exception": false,
     "start_time": "2025-06-02T19:11:39.299850",
     "status": "completed"
    },
    "tags": []
   },
   "source": [
    "using drop function to delete timestamp column cause it doesnt have any use"
   ]
  },
  {
   "cell_type": "code",
   "execution_count": 9,
   "id": "6c44eb0e",
   "metadata": {
    "execution": {
     "iopub.execute_input": "2025-06-02T19:11:39.398011Z",
     "iopub.status.busy": "2025-06-02T19:11:39.397356Z",
     "iopub.status.idle": "2025-06-02T19:11:39.660500Z",
     "shell.execute_reply": "2025-06-02T19:11:39.659607Z"
    },
    "papermill": {
     "duration": 0.34005,
     "end_time": "2025-06-02T19:11:39.661996",
     "exception": false,
     "start_time": "2025-06-02T19:11:39.321946",
     "status": "completed"
    },
    "tags": []
   },
   "outputs": [
    {
     "data": {
      "text/html": [
       "<div>\n",
       "<style scoped>\n",
       "    .dataframe tbody tr th:only-of-type {\n",
       "        vertical-align: middle;\n",
       "    }\n",
       "\n",
       "    .dataframe tbody tr th {\n",
       "        vertical-align: top;\n",
       "    }\n",
       "\n",
       "    .dataframe thead th {\n",
       "        text-align: right;\n",
       "    }\n",
       "</style>\n",
       "<table border=\"1\" class=\"dataframe\">\n",
       "  <thead>\n",
       "    <tr style=\"text-align: right;\">\n",
       "      <th></th>\n",
       "      <th>userId</th>\n",
       "      <th>movieId</th>\n",
       "      <th>rating</th>\n",
       "    </tr>\n",
       "  </thead>\n",
       "  <tbody>\n",
       "    <tr>\n",
       "      <th>0</th>\n",
       "      <td>1</td>\n",
       "      <td>296</td>\n",
       "      <td>5.0</td>\n",
       "    </tr>\n",
       "    <tr>\n",
       "      <th>1</th>\n",
       "      <td>1</td>\n",
       "      <td>306</td>\n",
       "      <td>3.5</td>\n",
       "    </tr>\n",
       "    <tr>\n",
       "      <th>2</th>\n",
       "      <td>1</td>\n",
       "      <td>307</td>\n",
       "      <td>5.0</td>\n",
       "    </tr>\n",
       "    <tr>\n",
       "      <th>3</th>\n",
       "      <td>1</td>\n",
       "      <td>665</td>\n",
       "      <td>5.0</td>\n",
       "    </tr>\n",
       "    <tr>\n",
       "      <th>4</th>\n",
       "      <td>1</td>\n",
       "      <td>899</td>\n",
       "      <td>3.5</td>\n",
       "    </tr>\n",
       "  </tbody>\n",
       "</table>\n",
       "</div>"
      ],
      "text/plain": [
       "   userId  movieId  rating\n",
       "0       1      296     5.0\n",
       "1       1      306     3.5\n",
       "2       1      307     5.0\n",
       "3       1      665     5.0\n",
       "4       1      899     3.5"
      ]
     },
     "execution_count": 9,
     "metadata": {},
     "output_type": "execute_result"
    }
   ],
   "source": [
    "ratings_df = ratings_df.drop('timestamp', axis=1)\n",
    "ratings_df.head()"
   ]
  },
  {
   "cell_type": "markdown",
   "id": "4c76baae",
   "metadata": {
    "papermill": {
     "duration": 0.012432,
     "end_time": "2025-06-02T19:11:39.685971",
     "exception": false,
     "start_time": "2025-06-02T19:11:39.673539",
     "status": "completed"
    },
    "tags": []
   },
   "source": [
    "User input rating matrix"
   ]
  },
  {
   "cell_type": "code",
   "execution_count": 10,
   "id": "3a2bd948",
   "metadata": {
    "execution": {
     "iopub.execute_input": "2025-06-02T19:11:39.710362Z",
     "iopub.status.busy": "2025-06-02T19:11:39.710010Z",
     "iopub.status.idle": "2025-06-02T19:11:39.720137Z",
     "shell.execute_reply": "2025-06-02T19:11:39.719483Z"
    },
    "papermill": {
     "duration": 0.023724,
     "end_time": "2025-06-02T19:11:39.721541",
     "exception": false,
     "start_time": "2025-06-02T19:11:39.697817",
     "status": "completed"
    },
    "tags": []
   },
   "outputs": [
    {
     "data": {
      "text/html": [
       "<div>\n",
       "<style scoped>\n",
       "    .dataframe tbody tr th:only-of-type {\n",
       "        vertical-align: middle;\n",
       "    }\n",
       "\n",
       "    .dataframe tbody tr th {\n",
       "        vertical-align: top;\n",
       "    }\n",
       "\n",
       "    .dataframe thead th {\n",
       "        text-align: right;\n",
       "    }\n",
       "</style>\n",
       "<table border=\"1\" class=\"dataframe\">\n",
       "  <thead>\n",
       "    <tr style=\"text-align: right;\">\n",
       "      <th></th>\n",
       "      <th>title</th>\n",
       "      <th>rating</th>\n",
       "    </tr>\n",
       "  </thead>\n",
       "  <tbody>\n",
       "    <tr>\n",
       "      <th>0</th>\n",
       "      <td>Breakfast Club, The</td>\n",
       "      <td>5.0</td>\n",
       "    </tr>\n",
       "    <tr>\n",
       "      <th>1</th>\n",
       "      <td>Toy Story</td>\n",
       "      <td>3.5</td>\n",
       "    </tr>\n",
       "    <tr>\n",
       "      <th>2</th>\n",
       "      <td>Jumanji</td>\n",
       "      <td>2.0</td>\n",
       "    </tr>\n",
       "    <tr>\n",
       "      <th>3</th>\n",
       "      <td>Pulp Fiction</td>\n",
       "      <td>5.0</td>\n",
       "    </tr>\n",
       "    <tr>\n",
       "      <th>4</th>\n",
       "      <td>Akira</td>\n",
       "      <td>4.5</td>\n",
       "    </tr>\n",
       "  </tbody>\n",
       "</table>\n",
       "</div>"
      ],
      "text/plain": [
       "                 title  rating\n",
       "0  Breakfast Club, The     5.0\n",
       "1            Toy Story     3.5\n",
       "2              Jumanji     2.0\n",
       "3         Pulp Fiction     5.0\n",
       "4                Akira     4.5"
      ]
     },
     "execution_count": 10,
     "metadata": {},
     "output_type": "execute_result"
    }
   ],
   "source": [
    "#making a costume user input rating \n",
    "userInput = [\n",
    "            {'title':'Breakfast Club, The', 'rating':5},\n",
    "            {'title':'Toy Story', 'rating':3.5},\n",
    "            {'title':'Jumanji', 'rating':2},\n",
    "            {'title':\"Pulp Fiction\", 'rating':5},\n",
    "            {'title':'Akira', 'rating':4.5}\n",
    "         ] \n",
    "#making a dataframe from user input rating\n",
    "inputMovies = pd.DataFrame(userInput)\n",
    "inputMovies"
   ]
  },
  {
   "cell_type": "markdown",
   "id": "e0eb76e6",
   "metadata": {
    "papermill": {
     "duration": 0.01128,
     "end_time": "2025-06-02T19:11:39.744486",
     "exception": false,
     "start_time": "2025-06-02T19:11:39.733206",
     "status": "completed"
    },
    "tags": []
   },
   "source": [
    "finding the id of movies person saw in our movie matrix"
   ]
  },
  {
   "cell_type": "code",
   "execution_count": 11,
   "id": "ef59e92e",
   "metadata": {
    "execution": {
     "iopub.execute_input": "2025-06-02T19:11:39.768525Z",
     "iopub.status.busy": "2025-06-02T19:11:39.768226Z",
     "iopub.status.idle": "2025-06-02T19:11:39.795668Z",
     "shell.execute_reply": "2025-06-02T19:11:39.794877Z"
    },
    "papermill": {
     "duration": 0.04138,
     "end_time": "2025-06-02T19:11:39.797230",
     "exception": false,
     "start_time": "2025-06-02T19:11:39.755850",
     "status": "completed"
    },
    "tags": []
   },
   "outputs": [
    {
     "data": {
      "text/html": [
       "<div>\n",
       "<style scoped>\n",
       "    .dataframe tbody tr th:only-of-type {\n",
       "        vertical-align: middle;\n",
       "    }\n",
       "\n",
       "    .dataframe tbody tr th {\n",
       "        vertical-align: top;\n",
       "    }\n",
       "\n",
       "    .dataframe thead th {\n",
       "        text-align: right;\n",
       "    }\n",
       "</style>\n",
       "<table border=\"1\" class=\"dataframe\">\n",
       "  <thead>\n",
       "    <tr style=\"text-align: right;\">\n",
       "      <th></th>\n",
       "      <th>movieId</th>\n",
       "      <th>title</th>\n",
       "      <th>rating</th>\n",
       "    </tr>\n",
       "  </thead>\n",
       "  <tbody>\n",
       "    <tr>\n",
       "      <th>0</th>\n",
       "      <td>1</td>\n",
       "      <td>Toy Story</td>\n",
       "      <td>3.5</td>\n",
       "    </tr>\n",
       "    <tr>\n",
       "      <th>1</th>\n",
       "      <td>2</td>\n",
       "      <td>Jumanji</td>\n",
       "      <td>2.0</td>\n",
       "    </tr>\n",
       "    <tr>\n",
       "      <th>2</th>\n",
       "      <td>296</td>\n",
       "      <td>Pulp Fiction</td>\n",
       "      <td>5.0</td>\n",
       "    </tr>\n",
       "    <tr>\n",
       "      <th>3</th>\n",
       "      <td>1274</td>\n",
       "      <td>Akira</td>\n",
       "      <td>4.5</td>\n",
       "    </tr>\n",
       "    <tr>\n",
       "      <th>4</th>\n",
       "      <td>1968</td>\n",
       "      <td>Breakfast Club, The</td>\n",
       "      <td>5.0</td>\n",
       "    </tr>\n",
       "    <tr>\n",
       "      <th>5</th>\n",
       "      <td>164600</td>\n",
       "      <td>Akira</td>\n",
       "      <td>4.5</td>\n",
       "    </tr>\n",
       "  </tbody>\n",
       "</table>\n",
       "</div>"
      ],
      "text/plain": [
       "   movieId                title  rating\n",
       "0        1            Toy Story     3.5\n",
       "1        2              Jumanji     2.0\n",
       "2      296         Pulp Fiction     5.0\n",
       "3     1274                Akira     4.5\n",
       "4     1968  Breakfast Club, The     5.0\n",
       "5   164600                Akira     4.5"
      ]
     },
     "execution_count": 11,
     "metadata": {},
     "output_type": "execute_result"
    }
   ],
   "source": [
    "#finding and choosing the movies that have same movie name as our input in movies dataframe and copying them to inputid variable\n",
    "inputId = movies_df[movies_df['title'].isin(inputMovies['title'])]\n",
    "#merging inputid(movies that the person saw) with his ratings, making the user rating matrix\n",
    "inputMovies = pd.merge(inputId, inputMovies)\n",
    "#deleting columns we dont need from our new dataframe\n",
    "inputMovies = inputMovies.drop('genres', axis=1).drop('year', axis=1)\n",
    "inputMovies"
   ]
  },
  {
   "cell_type": "code",
   "execution_count": 12,
   "id": "aabdbea9",
   "metadata": {
    "execution": {
     "iopub.execute_input": "2025-06-02T19:11:39.821782Z",
     "iopub.status.busy": "2025-06-02T19:11:39.821440Z",
     "iopub.status.idle": "2025-06-02T19:11:39.831648Z",
     "shell.execute_reply": "2025-06-02T19:11:39.830787Z"
    },
    "papermill": {
     "duration": 0.024058,
     "end_time": "2025-06-02T19:11:39.833111",
     "exception": false,
     "start_time": "2025-06-02T19:11:39.809053",
     "status": "completed"
    },
    "tags": []
   },
   "outputs": [
    {
     "data": {
      "text/html": [
       "<div>\n",
       "<style scoped>\n",
       "    .dataframe tbody tr th:only-of-type {\n",
       "        vertical-align: middle;\n",
       "    }\n",
       "\n",
       "    .dataframe tbody tr th {\n",
       "        vertical-align: top;\n",
       "    }\n",
       "\n",
       "    .dataframe thead th {\n",
       "        text-align: right;\n",
       "    }\n",
       "</style>\n",
       "<table border=\"1\" class=\"dataframe\">\n",
       "  <thead>\n",
       "    <tr style=\"text-align: right;\">\n",
       "      <th></th>\n",
       "      <th>movieId</th>\n",
       "      <th>title</th>\n",
       "      <th>genres</th>\n",
       "      <th>year</th>\n",
       "    </tr>\n",
       "  </thead>\n",
       "  <tbody>\n",
       "    <tr>\n",
       "      <th>0</th>\n",
       "      <td>1</td>\n",
       "      <td>Toy Story</td>\n",
       "      <td>[Adventure, Animation, Children, Comedy, Fantasy]</td>\n",
       "      <td>1995</td>\n",
       "    </tr>\n",
       "    <tr>\n",
       "      <th>1</th>\n",
       "      <td>2</td>\n",
       "      <td>Jumanji</td>\n",
       "      <td>[Adventure, Children, Fantasy]</td>\n",
       "      <td>1995</td>\n",
       "    </tr>\n",
       "    <tr>\n",
       "      <th>292</th>\n",
       "      <td>296</td>\n",
       "      <td>Pulp Fiction</td>\n",
       "      <td>[Comedy, Crime, Drama, Thriller]</td>\n",
       "      <td>1994</td>\n",
       "    </tr>\n",
       "    <tr>\n",
       "      <th>1241</th>\n",
       "      <td>1274</td>\n",
       "      <td>Akira</td>\n",
       "      <td>[Action, Adventure, Animation, Sci-Fi]</td>\n",
       "      <td>1988</td>\n",
       "    </tr>\n",
       "    <tr>\n",
       "      <th>1879</th>\n",
       "      <td>1968</td>\n",
       "      <td>Breakfast Club, The</td>\n",
       "      <td>[Comedy, Drama]</td>\n",
       "      <td>1985</td>\n",
       "    </tr>\n",
       "  </tbody>\n",
       "</table>\n",
       "</div>"
      ],
      "text/plain": [
       "      movieId                title  \\\n",
       "0           1            Toy Story   \n",
       "1           2              Jumanji   \n",
       "292       296         Pulp Fiction   \n",
       "1241     1274                Akira   \n",
       "1879     1968  Breakfast Club, The   \n",
       "\n",
       "                                                 genres  year  \n",
       "0     [Adventure, Animation, Children, Comedy, Fantasy]  1995  \n",
       "1                        [Adventure, Children, Fantasy]  1995  \n",
       "292                    [Comedy, Crime, Drama, Thriller]  1994  \n",
       "1241             [Action, Adventure, Animation, Sci-Fi]  1988  \n",
       "1879                                    [Comedy, Drama]  1985  "
      ]
     },
     "execution_count": 12,
     "metadata": {},
     "output_type": "execute_result"
    }
   ],
   "source": [
    "inputId.head()"
   ]
  },
  {
   "cell_type": "markdown",
   "id": "a3702777",
   "metadata": {
    "papermill": {
     "duration": 0.011485,
     "end_time": "2025-06-02T19:11:39.856446",
     "exception": false,
     "start_time": "2025-06-02T19:11:39.844961",
     "status": "completed"
    },
    "tags": []
   },
   "source": [
    "keeping the movies the person saw in dataframe that we created containing all genres as 1 and 0. Making the final movies and genere matrix"
   ]
  },
  {
   "cell_type": "code",
   "execution_count": 13,
   "id": "0977a67c",
   "metadata": {
    "execution": {
     "iopub.execute_input": "2025-06-02T19:11:39.881713Z",
     "iopub.status.busy": "2025-06-02T19:11:39.881041Z",
     "iopub.status.idle": "2025-06-02T19:11:39.908453Z",
     "shell.execute_reply": "2025-06-02T19:11:39.907499Z"
    },
    "papermill": {
     "duration": 0.041602,
     "end_time": "2025-06-02T19:11:39.910002",
     "exception": false,
     "start_time": "2025-06-02T19:11:39.868400",
     "status": "completed"
    },
    "tags": []
   },
   "outputs": [
    {
     "data": {
      "text/html": [
       "<div>\n",
       "<style scoped>\n",
       "    .dataframe tbody tr th:only-of-type {\n",
       "        vertical-align: middle;\n",
       "    }\n",
       "\n",
       "    .dataframe tbody tr th {\n",
       "        vertical-align: top;\n",
       "    }\n",
       "\n",
       "    .dataframe thead th {\n",
       "        text-align: right;\n",
       "    }\n",
       "</style>\n",
       "<table border=\"1\" class=\"dataframe\">\n",
       "  <thead>\n",
       "    <tr style=\"text-align: right;\">\n",
       "      <th></th>\n",
       "      <th>movieId</th>\n",
       "      <th>title</th>\n",
       "      <th>genres</th>\n",
       "      <th>year</th>\n",
       "      <th>Adventure</th>\n",
       "      <th>Animation</th>\n",
       "      <th>Children</th>\n",
       "      <th>Comedy</th>\n",
       "      <th>Fantasy</th>\n",
       "      <th>Romance</th>\n",
       "      <th>...</th>\n",
       "      <th>Horror</th>\n",
       "      <th>Mystery</th>\n",
       "      <th>Sci-Fi</th>\n",
       "      <th>IMAX</th>\n",
       "      <th>Documentary</th>\n",
       "      <th>War</th>\n",
       "      <th>Musical</th>\n",
       "      <th>Western</th>\n",
       "      <th>Film-Noir</th>\n",
       "      <th>(no genres listed)</th>\n",
       "    </tr>\n",
       "  </thead>\n",
       "  <tbody>\n",
       "    <tr>\n",
       "      <th>0</th>\n",
       "      <td>1</td>\n",
       "      <td>Toy Story</td>\n",
       "      <td>[Adventure, Animation, Children, Comedy, Fantasy]</td>\n",
       "      <td>1995</td>\n",
       "      <td>1.0</td>\n",
       "      <td>1.0</td>\n",
       "      <td>1.0</td>\n",
       "      <td>1.0</td>\n",
       "      <td>1.0</td>\n",
       "      <td>0.0</td>\n",
       "      <td>...</td>\n",
       "      <td>0.0</td>\n",
       "      <td>0.0</td>\n",
       "      <td>0.0</td>\n",
       "      <td>0.0</td>\n",
       "      <td>0.0</td>\n",
       "      <td>0.0</td>\n",
       "      <td>0.0</td>\n",
       "      <td>0.0</td>\n",
       "      <td>0.0</td>\n",
       "      <td>0.0</td>\n",
       "    </tr>\n",
       "    <tr>\n",
       "      <th>1</th>\n",
       "      <td>2</td>\n",
       "      <td>Jumanji</td>\n",
       "      <td>[Adventure, Children, Fantasy]</td>\n",
       "      <td>1995</td>\n",
       "      <td>1.0</td>\n",
       "      <td>0.0</td>\n",
       "      <td>1.0</td>\n",
       "      <td>0.0</td>\n",
       "      <td>1.0</td>\n",
       "      <td>0.0</td>\n",
       "      <td>...</td>\n",
       "      <td>0.0</td>\n",
       "      <td>0.0</td>\n",
       "      <td>0.0</td>\n",
       "      <td>0.0</td>\n",
       "      <td>0.0</td>\n",
       "      <td>0.0</td>\n",
       "      <td>0.0</td>\n",
       "      <td>0.0</td>\n",
       "      <td>0.0</td>\n",
       "      <td>0.0</td>\n",
       "    </tr>\n",
       "    <tr>\n",
       "      <th>292</th>\n",
       "      <td>296</td>\n",
       "      <td>Pulp Fiction</td>\n",
       "      <td>[Comedy, Crime, Drama, Thriller]</td>\n",
       "      <td>1994</td>\n",
       "      <td>0.0</td>\n",
       "      <td>0.0</td>\n",
       "      <td>0.0</td>\n",
       "      <td>1.0</td>\n",
       "      <td>0.0</td>\n",
       "      <td>0.0</td>\n",
       "      <td>...</td>\n",
       "      <td>0.0</td>\n",
       "      <td>0.0</td>\n",
       "      <td>0.0</td>\n",
       "      <td>0.0</td>\n",
       "      <td>0.0</td>\n",
       "      <td>0.0</td>\n",
       "      <td>0.0</td>\n",
       "      <td>0.0</td>\n",
       "      <td>0.0</td>\n",
       "      <td>0.0</td>\n",
       "    </tr>\n",
       "    <tr>\n",
       "      <th>1241</th>\n",
       "      <td>1274</td>\n",
       "      <td>Akira</td>\n",
       "      <td>[Action, Adventure, Animation, Sci-Fi]</td>\n",
       "      <td>1988</td>\n",
       "      <td>1.0</td>\n",
       "      <td>1.0</td>\n",
       "      <td>0.0</td>\n",
       "      <td>0.0</td>\n",
       "      <td>0.0</td>\n",
       "      <td>0.0</td>\n",
       "      <td>...</td>\n",
       "      <td>0.0</td>\n",
       "      <td>0.0</td>\n",
       "      <td>1.0</td>\n",
       "      <td>0.0</td>\n",
       "      <td>0.0</td>\n",
       "      <td>0.0</td>\n",
       "      <td>0.0</td>\n",
       "      <td>0.0</td>\n",
       "      <td>0.0</td>\n",
       "      <td>0.0</td>\n",
       "    </tr>\n",
       "    <tr>\n",
       "      <th>1879</th>\n",
       "      <td>1968</td>\n",
       "      <td>Breakfast Club, The</td>\n",
       "      <td>[Comedy, Drama]</td>\n",
       "      <td>1985</td>\n",
       "      <td>0.0</td>\n",
       "      <td>0.0</td>\n",
       "      <td>0.0</td>\n",
       "      <td>1.0</td>\n",
       "      <td>0.0</td>\n",
       "      <td>0.0</td>\n",
       "      <td>...</td>\n",
       "      <td>0.0</td>\n",
       "      <td>0.0</td>\n",
       "      <td>0.0</td>\n",
       "      <td>0.0</td>\n",
       "      <td>0.0</td>\n",
       "      <td>0.0</td>\n",
       "      <td>0.0</td>\n",
       "      <td>0.0</td>\n",
       "      <td>0.0</td>\n",
       "      <td>0.0</td>\n",
       "    </tr>\n",
       "    <tr>\n",
       "      <th>42774</th>\n",
       "      <td>164600</td>\n",
       "      <td>Akira</td>\n",
       "      <td>[Action, Crime, Thriller]</td>\n",
       "      <td>2016</td>\n",
       "      <td>0.0</td>\n",
       "      <td>0.0</td>\n",
       "      <td>0.0</td>\n",
       "      <td>0.0</td>\n",
       "      <td>0.0</td>\n",
       "      <td>0.0</td>\n",
       "      <td>...</td>\n",
       "      <td>0.0</td>\n",
       "      <td>0.0</td>\n",
       "      <td>0.0</td>\n",
       "      <td>0.0</td>\n",
       "      <td>0.0</td>\n",
       "      <td>0.0</td>\n",
       "      <td>0.0</td>\n",
       "      <td>0.0</td>\n",
       "      <td>0.0</td>\n",
       "      <td>0.0</td>\n",
       "    </tr>\n",
       "  </tbody>\n",
       "</table>\n",
       "<p>6 rows × 24 columns</p>\n",
       "</div>"
      ],
      "text/plain": [
       "       movieId                title  \\\n",
       "0            1            Toy Story   \n",
       "1            2              Jumanji   \n",
       "292        296         Pulp Fiction   \n",
       "1241      1274                Akira   \n",
       "1879      1968  Breakfast Club, The   \n",
       "42774   164600                Akira   \n",
       "\n",
       "                                                  genres  year  Adventure  \\\n",
       "0      [Adventure, Animation, Children, Comedy, Fantasy]  1995        1.0   \n",
       "1                         [Adventure, Children, Fantasy]  1995        1.0   \n",
       "292                     [Comedy, Crime, Drama, Thriller]  1994        0.0   \n",
       "1241              [Action, Adventure, Animation, Sci-Fi]  1988        1.0   \n",
       "1879                                     [Comedy, Drama]  1985        0.0   \n",
       "42774                          [Action, Crime, Thriller]  2016        0.0   \n",
       "\n",
       "       Animation  Children  Comedy  Fantasy  Romance  ...  Horror  Mystery  \\\n",
       "0            1.0       1.0     1.0      1.0      0.0  ...     0.0      0.0   \n",
       "1            0.0       1.0     0.0      1.0      0.0  ...     0.0      0.0   \n",
       "292          0.0       0.0     1.0      0.0      0.0  ...     0.0      0.0   \n",
       "1241         1.0       0.0     0.0      0.0      0.0  ...     0.0      0.0   \n",
       "1879         0.0       0.0     1.0      0.0      0.0  ...     0.0      0.0   \n",
       "42774        0.0       0.0     0.0      0.0      0.0  ...     0.0      0.0   \n",
       "\n",
       "       Sci-Fi  IMAX  Documentary  War  Musical  Western  Film-Noir  \\\n",
       "0         0.0   0.0          0.0  0.0      0.0      0.0        0.0   \n",
       "1         0.0   0.0          0.0  0.0      0.0      0.0        0.0   \n",
       "292       0.0   0.0          0.0  0.0      0.0      0.0        0.0   \n",
       "1241      1.0   0.0          0.0  0.0      0.0      0.0        0.0   \n",
       "1879      0.0   0.0          0.0  0.0      0.0      0.0        0.0   \n",
       "42774     0.0   0.0          0.0  0.0      0.0      0.0        0.0   \n",
       "\n",
       "       (no genres listed)  \n",
       "0                     0.0  \n",
       "1                     0.0  \n",
       "292                   0.0  \n",
       "1241                  0.0  \n",
       "1879                  0.0  \n",
       "42774                 0.0  \n",
       "\n",
       "[6 rows x 24 columns]"
      ]
     },
     "execution_count": 13,
     "metadata": {},
     "output_type": "execute_result"
    }
   ],
   "source": [
    "userMovies = moviesWithGenres_df[moviesWithGenres_df['movieId'].isin(inputMovies['movieId'])]\n",
    "userMovies"
   ]
  },
  {
   "cell_type": "markdown",
   "id": "efb5fd06",
   "metadata": {
    "papermill": {
     "duration": 0.011593,
     "end_time": "2025-06-02T19:11:39.933972",
     "exception": false,
     "start_time": "2025-06-02T19:11:39.922379",
     "status": "completed"
    },
    "tags": []
   },
   "source": [
    "cleaning the dataframe"
   ]
  },
  {
   "cell_type": "code",
   "execution_count": 14,
   "id": "3d64a124",
   "metadata": {
    "execution": {
     "iopub.execute_input": "2025-06-02T19:11:39.959359Z",
     "iopub.status.busy": "2025-06-02T19:11:39.959036Z",
     "iopub.status.idle": "2025-06-02T19:11:39.984942Z",
     "shell.execute_reply": "2025-06-02T19:11:39.984098Z"
    },
    "papermill": {
     "duration": 0.040286,
     "end_time": "2025-06-02T19:11:39.986431",
     "exception": false,
     "start_time": "2025-06-02T19:11:39.946145",
     "status": "completed"
    },
    "tags": []
   },
   "outputs": [
    {
     "data": {
      "text/html": [
       "<div>\n",
       "<style scoped>\n",
       "    .dataframe tbody tr th:only-of-type {\n",
       "        vertical-align: middle;\n",
       "    }\n",
       "\n",
       "    .dataframe tbody tr th {\n",
       "        vertical-align: top;\n",
       "    }\n",
       "\n",
       "    .dataframe thead th {\n",
       "        text-align: right;\n",
       "    }\n",
       "</style>\n",
       "<table border=\"1\" class=\"dataframe\">\n",
       "  <thead>\n",
       "    <tr style=\"text-align: right;\">\n",
       "      <th></th>\n",
       "      <th>Adventure</th>\n",
       "      <th>Animation</th>\n",
       "      <th>Children</th>\n",
       "      <th>Comedy</th>\n",
       "      <th>Fantasy</th>\n",
       "      <th>Romance</th>\n",
       "      <th>Drama</th>\n",
       "      <th>Action</th>\n",
       "      <th>Crime</th>\n",
       "      <th>Thriller</th>\n",
       "      <th>Horror</th>\n",
       "      <th>Mystery</th>\n",
       "      <th>Sci-Fi</th>\n",
       "      <th>IMAX</th>\n",
       "      <th>Documentary</th>\n",
       "      <th>War</th>\n",
       "      <th>Musical</th>\n",
       "      <th>Western</th>\n",
       "      <th>Film-Noir</th>\n",
       "      <th>(no genres listed)</th>\n",
       "    </tr>\n",
       "  </thead>\n",
       "  <tbody>\n",
       "    <tr>\n",
       "      <th>0</th>\n",
       "      <td>1.0</td>\n",
       "      <td>1.0</td>\n",
       "      <td>1.0</td>\n",
       "      <td>1.0</td>\n",
       "      <td>1.0</td>\n",
       "      <td>0.0</td>\n",
       "      <td>0.0</td>\n",
       "      <td>0.0</td>\n",
       "      <td>0.0</td>\n",
       "      <td>0.0</td>\n",
       "      <td>0.0</td>\n",
       "      <td>0.0</td>\n",
       "      <td>0.0</td>\n",
       "      <td>0.0</td>\n",
       "      <td>0.0</td>\n",
       "      <td>0.0</td>\n",
       "      <td>0.0</td>\n",
       "      <td>0.0</td>\n",
       "      <td>0.0</td>\n",
       "      <td>0.0</td>\n",
       "    </tr>\n",
       "    <tr>\n",
       "      <th>1</th>\n",
       "      <td>1.0</td>\n",
       "      <td>0.0</td>\n",
       "      <td>1.0</td>\n",
       "      <td>0.0</td>\n",
       "      <td>1.0</td>\n",
       "      <td>0.0</td>\n",
       "      <td>0.0</td>\n",
       "      <td>0.0</td>\n",
       "      <td>0.0</td>\n",
       "      <td>0.0</td>\n",
       "      <td>0.0</td>\n",
       "      <td>0.0</td>\n",
       "      <td>0.0</td>\n",
       "      <td>0.0</td>\n",
       "      <td>0.0</td>\n",
       "      <td>0.0</td>\n",
       "      <td>0.0</td>\n",
       "      <td>0.0</td>\n",
       "      <td>0.0</td>\n",
       "      <td>0.0</td>\n",
       "    </tr>\n",
       "    <tr>\n",
       "      <th>2</th>\n",
       "      <td>0.0</td>\n",
       "      <td>0.0</td>\n",
       "      <td>0.0</td>\n",
       "      <td>1.0</td>\n",
       "      <td>0.0</td>\n",
       "      <td>0.0</td>\n",
       "      <td>1.0</td>\n",
       "      <td>0.0</td>\n",
       "      <td>1.0</td>\n",
       "      <td>1.0</td>\n",
       "      <td>0.0</td>\n",
       "      <td>0.0</td>\n",
       "      <td>0.0</td>\n",
       "      <td>0.0</td>\n",
       "      <td>0.0</td>\n",
       "      <td>0.0</td>\n",
       "      <td>0.0</td>\n",
       "      <td>0.0</td>\n",
       "      <td>0.0</td>\n",
       "      <td>0.0</td>\n",
       "    </tr>\n",
       "    <tr>\n",
       "      <th>3</th>\n",
       "      <td>1.0</td>\n",
       "      <td>1.0</td>\n",
       "      <td>0.0</td>\n",
       "      <td>0.0</td>\n",
       "      <td>0.0</td>\n",
       "      <td>0.0</td>\n",
       "      <td>0.0</td>\n",
       "      <td>1.0</td>\n",
       "      <td>0.0</td>\n",
       "      <td>0.0</td>\n",
       "      <td>0.0</td>\n",
       "      <td>0.0</td>\n",
       "      <td>1.0</td>\n",
       "      <td>0.0</td>\n",
       "      <td>0.0</td>\n",
       "      <td>0.0</td>\n",
       "      <td>0.0</td>\n",
       "      <td>0.0</td>\n",
       "      <td>0.0</td>\n",
       "      <td>0.0</td>\n",
       "    </tr>\n",
       "    <tr>\n",
       "      <th>4</th>\n",
       "      <td>0.0</td>\n",
       "      <td>0.0</td>\n",
       "      <td>0.0</td>\n",
       "      <td>1.0</td>\n",
       "      <td>0.0</td>\n",
       "      <td>0.0</td>\n",
       "      <td>1.0</td>\n",
       "      <td>0.0</td>\n",
       "      <td>0.0</td>\n",
       "      <td>0.0</td>\n",
       "      <td>0.0</td>\n",
       "      <td>0.0</td>\n",
       "      <td>0.0</td>\n",
       "      <td>0.0</td>\n",
       "      <td>0.0</td>\n",
       "      <td>0.0</td>\n",
       "      <td>0.0</td>\n",
       "      <td>0.0</td>\n",
       "      <td>0.0</td>\n",
       "      <td>0.0</td>\n",
       "    </tr>\n",
       "    <tr>\n",
       "      <th>5</th>\n",
       "      <td>0.0</td>\n",
       "      <td>0.0</td>\n",
       "      <td>0.0</td>\n",
       "      <td>0.0</td>\n",
       "      <td>0.0</td>\n",
       "      <td>0.0</td>\n",
       "      <td>0.0</td>\n",
       "      <td>1.0</td>\n",
       "      <td>1.0</td>\n",
       "      <td>1.0</td>\n",
       "      <td>0.0</td>\n",
       "      <td>0.0</td>\n",
       "      <td>0.0</td>\n",
       "      <td>0.0</td>\n",
       "      <td>0.0</td>\n",
       "      <td>0.0</td>\n",
       "      <td>0.0</td>\n",
       "      <td>0.0</td>\n",
       "      <td>0.0</td>\n",
       "      <td>0.0</td>\n",
       "    </tr>\n",
       "  </tbody>\n",
       "</table>\n",
       "</div>"
      ],
      "text/plain": [
       "   Adventure  Animation  Children  Comedy  Fantasy  Romance  Drama  Action  \\\n",
       "0        1.0        1.0       1.0     1.0      1.0      0.0    0.0     0.0   \n",
       "1        1.0        0.0       1.0     0.0      1.0      0.0    0.0     0.0   \n",
       "2        0.0        0.0       0.0     1.0      0.0      0.0    1.0     0.0   \n",
       "3        1.0        1.0       0.0     0.0      0.0      0.0    0.0     1.0   \n",
       "4        0.0        0.0       0.0     1.0      0.0      0.0    1.0     0.0   \n",
       "5        0.0        0.0       0.0     0.0      0.0      0.0    0.0     1.0   \n",
       "\n",
       "   Crime  Thriller  Horror  Mystery  Sci-Fi  IMAX  Documentary  War  Musical  \\\n",
       "0    0.0       0.0     0.0      0.0     0.0   0.0          0.0  0.0      0.0   \n",
       "1    0.0       0.0     0.0      0.0     0.0   0.0          0.0  0.0      0.0   \n",
       "2    1.0       1.0     0.0      0.0     0.0   0.0          0.0  0.0      0.0   \n",
       "3    0.0       0.0     0.0      0.0     1.0   0.0          0.0  0.0      0.0   \n",
       "4    0.0       0.0     0.0      0.0     0.0   0.0          0.0  0.0      0.0   \n",
       "5    1.0       1.0     0.0      0.0     0.0   0.0          0.0  0.0      0.0   \n",
       "\n",
       "   Western  Film-Noir  (no genres listed)  \n",
       "0      0.0        0.0                 0.0  \n",
       "1      0.0        0.0                 0.0  \n",
       "2      0.0        0.0                 0.0  \n",
       "3      0.0        0.0                 0.0  \n",
       "4      0.0        0.0                 0.0  \n",
       "5      0.0        0.0                 0.0  "
      ]
     },
     "execution_count": 14,
     "metadata": {},
     "output_type": "execute_result"
    }
   ],
   "source": [
    "#cleaning and making new set of index to use it easier\n",
    "userMovies = userMovies.reset_index(drop=True)\n",
    "#deleting columns we dont need to save memory by drop function and columns\n",
    "userGenreTable = userMovies.drop('movieId', axis=1).drop('title', axis=1).drop('genres', axis=1).drop('year', axis=1)\n",
    "userGenreTable"
   ]
  },
  {
   "cell_type": "code",
   "execution_count": 15,
   "id": "effe8996",
   "metadata": {
    "execution": {
     "iopub.execute_input": "2025-06-02T19:11:40.013201Z",
     "iopub.status.busy": "2025-06-02T19:11:40.012453Z",
     "iopub.status.idle": "2025-06-02T19:11:40.019023Z",
     "shell.execute_reply": "2025-06-02T19:11:40.018245Z"
    },
    "papermill": {
     "duration": 0.021595,
     "end_time": "2025-06-02T19:11:40.020481",
     "exception": false,
     "start_time": "2025-06-02T19:11:39.998886",
     "status": "completed"
    },
    "tags": []
   },
   "outputs": [
    {
     "data": {
      "text/plain": [
       "0    3.5\n",
       "1    2.0\n",
       "2    5.0\n",
       "3    4.5\n",
       "4    5.0\n",
       "5    4.5\n",
       "Name: rating, dtype: float64"
      ]
     },
     "execution_count": 15,
     "metadata": {},
     "output_type": "execute_result"
    }
   ],
   "source": [
    "inputMovies['rating']"
   ]
  },
  {
   "cell_type": "markdown",
   "id": "a2744d41",
   "metadata": {
    "papermill": {
     "duration": 0.012324,
     "end_time": "2025-06-02T19:11:40.045256",
     "exception": false,
     "start_time": "2025-06-02T19:11:40.032932",
     "status": "completed"
    },
    "tags": []
   },
   "source": [
    "transpose the movies matrix and multiply it with user rating (matrix multiply). Making user profile"
   ]
  },
  {
   "cell_type": "code",
   "execution_count": 16,
   "id": "c978ba16",
   "metadata": {
    "execution": {
     "iopub.execute_input": "2025-06-02T19:11:40.071622Z",
     "iopub.status.busy": "2025-06-02T19:11:40.070767Z",
     "iopub.status.idle": "2025-06-02T19:11:40.082820Z",
     "shell.execute_reply": "2025-06-02T19:11:40.081970Z"
    },
    "papermill": {
     "duration": 0.02685,
     "end_time": "2025-06-02T19:11:40.084334",
     "exception": false,
     "start_time": "2025-06-02T19:11:40.057484",
     "status": "completed"
    },
    "tags": []
   },
   "outputs": [
    {
     "data": {
      "text/plain": [
       "Adventure             10.0\n",
       "Animation              8.0\n",
       "Children               5.5\n",
       "Comedy                13.5\n",
       "Fantasy                5.5\n",
       "Romance                0.0\n",
       "Drama                 10.0\n",
       "Action                 9.0\n",
       "Crime                  9.5\n",
       "Thriller               9.5\n",
       "Horror                 0.0\n",
       "Mystery                0.0\n",
       "Sci-Fi                 4.5\n",
       "IMAX                   0.0\n",
       "Documentary            0.0\n",
       "War                    0.0\n",
       "Musical                0.0\n",
       "Western                0.0\n",
       "Film-Noir              0.0\n",
       "(no genres listed)     0.0\n",
       "dtype: float64"
      ]
     },
     "execution_count": 16,
     "metadata": {},
     "output_type": "execute_result"
    }
   ],
   "source": [
    "userProfile = userGenreTable.transpose().dot(inputMovies['rating'])\n",
    "userProfile"
   ]
  },
  {
   "cell_type": "markdown",
   "id": "8f911207",
   "metadata": {
    "papermill": {
     "duration": 0.012197,
     "end_time": "2025-06-02T19:11:40.109009",
     "exception": false,
     "start_time": "2025-06-02T19:11:40.096812",
     "status": "completed"
    },
    "tags": []
   },
   "source": [
    "taking all movies and their genre "
   ]
  },
  {
   "cell_type": "code",
   "execution_count": 17,
   "id": "52fc0d7e",
   "metadata": {
    "execution": {
     "iopub.execute_input": "2025-06-02T19:11:40.135691Z",
     "iopub.status.busy": "2025-06-02T19:11:40.135381Z",
     "iopub.status.idle": "2025-06-02T19:11:40.196352Z",
     "shell.execute_reply": "2025-06-02T19:11:40.195496Z"
    },
    "papermill": {
     "duration": 0.075914,
     "end_time": "2025-06-02T19:11:40.197945",
     "exception": false,
     "start_time": "2025-06-02T19:11:40.122031",
     "status": "completed"
    },
    "tags": []
   },
   "outputs": [
    {
     "data": {
      "text/html": [
       "<div>\n",
       "<style scoped>\n",
       "    .dataframe tbody tr th:only-of-type {\n",
       "        vertical-align: middle;\n",
       "    }\n",
       "\n",
       "    .dataframe tbody tr th {\n",
       "        vertical-align: top;\n",
       "    }\n",
       "\n",
       "    .dataframe thead th {\n",
       "        text-align: right;\n",
       "    }\n",
       "</style>\n",
       "<table border=\"1\" class=\"dataframe\">\n",
       "  <thead>\n",
       "    <tr style=\"text-align: right;\">\n",
       "      <th></th>\n",
       "      <th>Adventure</th>\n",
       "      <th>Animation</th>\n",
       "      <th>Children</th>\n",
       "      <th>Comedy</th>\n",
       "      <th>Fantasy</th>\n",
       "      <th>Romance</th>\n",
       "      <th>Drama</th>\n",
       "      <th>Action</th>\n",
       "      <th>Crime</th>\n",
       "      <th>Thriller</th>\n",
       "      <th>Horror</th>\n",
       "      <th>Mystery</th>\n",
       "      <th>Sci-Fi</th>\n",
       "      <th>IMAX</th>\n",
       "      <th>Documentary</th>\n",
       "      <th>War</th>\n",
       "      <th>Musical</th>\n",
       "      <th>Western</th>\n",
       "      <th>Film-Noir</th>\n",
       "      <th>(no genres listed)</th>\n",
       "    </tr>\n",
       "    <tr>\n",
       "      <th>movieId</th>\n",
       "      <th></th>\n",
       "      <th></th>\n",
       "      <th></th>\n",
       "      <th></th>\n",
       "      <th></th>\n",
       "      <th></th>\n",
       "      <th></th>\n",
       "      <th></th>\n",
       "      <th></th>\n",
       "      <th></th>\n",
       "      <th></th>\n",
       "      <th></th>\n",
       "      <th></th>\n",
       "      <th></th>\n",
       "      <th></th>\n",
       "      <th></th>\n",
       "      <th></th>\n",
       "      <th></th>\n",
       "      <th></th>\n",
       "      <th></th>\n",
       "    </tr>\n",
       "  </thead>\n",
       "  <tbody>\n",
       "    <tr>\n",
       "      <th>1</th>\n",
       "      <td>1.0</td>\n",
       "      <td>1.0</td>\n",
       "      <td>1.0</td>\n",
       "      <td>1.0</td>\n",
       "      <td>1.0</td>\n",
       "      <td>0.0</td>\n",
       "      <td>0.0</td>\n",
       "      <td>0.0</td>\n",
       "      <td>0.0</td>\n",
       "      <td>0.0</td>\n",
       "      <td>0.0</td>\n",
       "      <td>0.0</td>\n",
       "      <td>0.0</td>\n",
       "      <td>0.0</td>\n",
       "      <td>0.0</td>\n",
       "      <td>0.0</td>\n",
       "      <td>0.0</td>\n",
       "      <td>0.0</td>\n",
       "      <td>0.0</td>\n",
       "      <td>0.0</td>\n",
       "    </tr>\n",
       "    <tr>\n",
       "      <th>2</th>\n",
       "      <td>1.0</td>\n",
       "      <td>0.0</td>\n",
       "      <td>1.0</td>\n",
       "      <td>0.0</td>\n",
       "      <td>1.0</td>\n",
       "      <td>0.0</td>\n",
       "      <td>0.0</td>\n",
       "      <td>0.0</td>\n",
       "      <td>0.0</td>\n",
       "      <td>0.0</td>\n",
       "      <td>0.0</td>\n",
       "      <td>0.0</td>\n",
       "      <td>0.0</td>\n",
       "      <td>0.0</td>\n",
       "      <td>0.0</td>\n",
       "      <td>0.0</td>\n",
       "      <td>0.0</td>\n",
       "      <td>0.0</td>\n",
       "      <td>0.0</td>\n",
       "      <td>0.0</td>\n",
       "    </tr>\n",
       "    <tr>\n",
       "      <th>3</th>\n",
       "      <td>0.0</td>\n",
       "      <td>0.0</td>\n",
       "      <td>0.0</td>\n",
       "      <td>1.0</td>\n",
       "      <td>0.0</td>\n",
       "      <td>1.0</td>\n",
       "      <td>0.0</td>\n",
       "      <td>0.0</td>\n",
       "      <td>0.0</td>\n",
       "      <td>0.0</td>\n",
       "      <td>0.0</td>\n",
       "      <td>0.0</td>\n",
       "      <td>0.0</td>\n",
       "      <td>0.0</td>\n",
       "      <td>0.0</td>\n",
       "      <td>0.0</td>\n",
       "      <td>0.0</td>\n",
       "      <td>0.0</td>\n",
       "      <td>0.0</td>\n",
       "      <td>0.0</td>\n",
       "    </tr>\n",
       "    <tr>\n",
       "      <th>4</th>\n",
       "      <td>0.0</td>\n",
       "      <td>0.0</td>\n",
       "      <td>0.0</td>\n",
       "      <td>1.0</td>\n",
       "      <td>0.0</td>\n",
       "      <td>1.0</td>\n",
       "      <td>1.0</td>\n",
       "      <td>0.0</td>\n",
       "      <td>0.0</td>\n",
       "      <td>0.0</td>\n",
       "      <td>0.0</td>\n",
       "      <td>0.0</td>\n",
       "      <td>0.0</td>\n",
       "      <td>0.0</td>\n",
       "      <td>0.0</td>\n",
       "      <td>0.0</td>\n",
       "      <td>0.0</td>\n",
       "      <td>0.0</td>\n",
       "      <td>0.0</td>\n",
       "      <td>0.0</td>\n",
       "    </tr>\n",
       "    <tr>\n",
       "      <th>5</th>\n",
       "      <td>0.0</td>\n",
       "      <td>0.0</td>\n",
       "      <td>0.0</td>\n",
       "      <td>1.0</td>\n",
       "      <td>0.0</td>\n",
       "      <td>0.0</td>\n",
       "      <td>0.0</td>\n",
       "      <td>0.0</td>\n",
       "      <td>0.0</td>\n",
       "      <td>0.0</td>\n",
       "      <td>0.0</td>\n",
       "      <td>0.0</td>\n",
       "      <td>0.0</td>\n",
       "      <td>0.0</td>\n",
       "      <td>0.0</td>\n",
       "      <td>0.0</td>\n",
       "      <td>0.0</td>\n",
       "      <td>0.0</td>\n",
       "      <td>0.0</td>\n",
       "      <td>0.0</td>\n",
       "    </tr>\n",
       "  </tbody>\n",
       "</table>\n",
       "</div>"
      ],
      "text/plain": [
       "         Adventure  Animation  Children  Comedy  Fantasy  Romance  Drama  \\\n",
       "movieId                                                                    \n",
       "1              1.0        1.0       1.0     1.0      1.0      0.0    0.0   \n",
       "2              1.0        0.0       1.0     0.0      1.0      0.0    0.0   \n",
       "3              0.0        0.0       0.0     1.0      0.0      1.0    0.0   \n",
       "4              0.0        0.0       0.0     1.0      0.0      1.0    1.0   \n",
       "5              0.0        0.0       0.0     1.0      0.0      0.0    0.0   \n",
       "\n",
       "         Action  Crime  Thriller  Horror  Mystery  Sci-Fi  IMAX  Documentary  \\\n",
       "movieId                                                                        \n",
       "1           0.0    0.0       0.0     0.0      0.0     0.0   0.0          0.0   \n",
       "2           0.0    0.0       0.0     0.0      0.0     0.0   0.0          0.0   \n",
       "3           0.0    0.0       0.0     0.0      0.0     0.0   0.0          0.0   \n",
       "4           0.0    0.0       0.0     0.0      0.0     0.0   0.0          0.0   \n",
       "5           0.0    0.0       0.0     0.0      0.0     0.0   0.0          0.0   \n",
       "\n",
       "         War  Musical  Western  Film-Noir  (no genres listed)  \n",
       "movieId                                                        \n",
       "1        0.0      0.0      0.0        0.0                 0.0  \n",
       "2        0.0      0.0      0.0        0.0                 0.0  \n",
       "3        0.0      0.0      0.0        0.0                 0.0  \n",
       "4        0.0      0.0      0.0        0.0                 0.0  \n",
       "5        0.0      0.0      0.0        0.0                 0.0  "
      ]
     },
     "execution_count": 17,
     "metadata": {},
     "output_type": "execute_result"
    }
   ],
   "source": [
    "#creating genretable and choosing every movie in movies with genres dataframe but setting new index to them as their movieid\n",
    "genreTable = moviesWithGenres_df.set_index(moviesWithGenres_df['movieId'])\n",
    "#deleting the extra columns to save memory using drop function\n",
    "genreTable = genreTable.drop('movieId', axis=1).drop('title', axis=1).drop('genres', axis=1).drop('year', axis=1)\n",
    "genreTable.head()"
   ]
  },
  {
   "cell_type": "code",
   "execution_count": 18,
   "id": "a67c61a9",
   "metadata": {
    "execution": {
     "iopub.execute_input": "2025-06-02T19:11:40.224645Z",
     "iopub.status.busy": "2025-06-02T19:11:40.224350Z",
     "iopub.status.idle": "2025-06-02T19:11:40.229781Z",
     "shell.execute_reply": "2025-06-02T19:11:40.228956Z"
    },
    "papermill": {
     "duration": 0.020264,
     "end_time": "2025-06-02T19:11:40.231197",
     "exception": false,
     "start_time": "2025-06-02T19:11:40.210933",
     "status": "completed"
    },
    "tags": []
   },
   "outputs": [
    {
     "data": {
      "text/plain": [
       "(62423, 20)"
      ]
     },
     "execution_count": 18,
     "metadata": {},
     "output_type": "execute_result"
    }
   ],
   "source": [
    "genreTable.shape"
   ]
  },
  {
   "cell_type": "markdown",
   "id": "e420484c",
   "metadata": {
    "papermill": {
     "duration": 0.013134,
     "end_time": "2025-06-02T19:11:40.257551",
     "exception": false,
     "start_time": "2025-06-02T19:11:40.244417",
     "status": "completed"
    },
    "tags": []
   },
   "source": [
    "Multiply the genres with user profile to achieve weighted matrix and then take the weighted average to have a single score for every movie"
   ]
  },
  {
   "cell_type": "code",
   "execution_count": 19,
   "id": "14e2b661",
   "metadata": {
    "execution": {
     "iopub.execute_input": "2025-06-02T19:11:40.284342Z",
     "iopub.status.busy": "2025-06-02T19:11:40.283993Z",
     "iopub.status.idle": "2025-06-02T19:11:40.313413Z",
     "shell.execute_reply": "2025-06-02T19:11:40.312410Z"
    },
    "papermill": {
     "duration": 0.044652,
     "end_time": "2025-06-02T19:11:40.314875",
     "exception": false,
     "start_time": "2025-06-02T19:11:40.270223",
     "status": "completed"
    },
    "tags": []
   },
   "outputs": [
    {
     "data": {
      "text/plain": [
       "movieId\n",
       "1    0.500000\n",
       "2    0.247059\n",
       "3    0.158824\n",
       "4    0.276471\n",
       "5    0.158824\n",
       "dtype: float64"
      ]
     },
     "execution_count": 19,
     "metadata": {},
     "output_type": "execute_result"
    }
   ],
   "source": [
    "#multiply each genre with its rating from user and summation them and divide them by the summation of userprofile\n",
    "recommendationTable_df = ((genreTable*userProfile).sum(axis=1))/(userProfile.sum())\n",
    "recommendationTable_df.head()"
   ]
  },
  {
   "cell_type": "markdown",
   "id": "afa0f4d3",
   "metadata": {
    "papermill": {
     "duration": 0.013339,
     "end_time": "2025-06-02T19:11:40.341289",
     "exception": false,
     "start_time": "2025-06-02T19:11:40.327950",
     "status": "completed"
    },
    "tags": []
   },
   "source": [
    "Sorting"
   ]
  },
  {
   "cell_type": "code",
   "execution_count": 20,
   "id": "45e90238",
   "metadata": {
    "execution": {
     "iopub.execute_input": "2025-06-02T19:11:40.368362Z",
     "iopub.status.busy": "2025-06-02T19:11:40.368010Z",
     "iopub.status.idle": "2025-06-02T19:11:40.379743Z",
     "shell.execute_reply": "2025-06-02T19:11:40.378857Z"
    },
    "papermill": {
     "duration": 0.026971,
     "end_time": "2025-06-02T19:11:40.381201",
     "exception": false,
     "start_time": "2025-06-02T19:11:40.354230",
     "status": "completed"
    },
    "tags": []
   },
   "outputs": [
    {
     "data": {
      "text/plain": [
       "movieId\n",
       "5018      0.735294\n",
       "144324    0.723529\n",
       "122787    0.723529\n",
       "81132     0.723529\n",
       "64645     0.723529\n",
       "dtype: float64"
      ]
     },
     "execution_count": 20,
     "metadata": {},
     "output_type": "execute_result"
    }
   ],
   "source": [
    "#sort decending with sort value function based on score\n",
    "recommendationTable_df = recommendationTable_df.sort_values(ascending=False)\n",
    "recommendationTable_df.head()"
   ]
  },
  {
   "cell_type": "markdown",
   "id": "6bc13b16",
   "metadata": {
    "papermill": {
     "duration": 0.012645,
     "end_time": "2025-06-02T19:11:40.406973",
     "exception": false,
     "start_time": "2025-06-02T19:11:40.394328",
     "status": "completed"
    },
    "tags": []
   },
   "source": [
    "recommendation matrix"
   ]
  },
  {
   "cell_type": "code",
   "execution_count": 21,
   "id": "a998aa4d",
   "metadata": {
    "execution": {
     "iopub.execute_input": "2025-06-02T19:11:40.434872Z",
     "iopub.status.busy": "2025-06-02T19:11:40.434550Z",
     "iopub.status.idle": "2025-06-02T19:11:40.447912Z",
     "shell.execute_reply": "2025-06-02T19:11:40.446868Z"
    },
    "papermill": {
     "duration": 0.029191,
     "end_time": "2025-06-02T19:11:40.449483",
     "exception": false,
     "start_time": "2025-06-02T19:11:40.420292",
     "status": "completed"
    },
    "tags": []
   },
   "outputs": [
    {
     "data": {
      "text/html": [
       "<div>\n",
       "<style scoped>\n",
       "    .dataframe tbody tr th:only-of-type {\n",
       "        vertical-align: middle;\n",
       "    }\n",
       "\n",
       "    .dataframe tbody tr th {\n",
       "        vertical-align: top;\n",
       "    }\n",
       "\n",
       "    .dataframe thead th {\n",
       "        text-align: right;\n",
       "    }\n",
       "</style>\n",
       "<table border=\"1\" class=\"dataframe\">\n",
       "  <thead>\n",
       "    <tr style=\"text-align: right;\">\n",
       "      <th></th>\n",
       "      <th>movieId</th>\n",
       "      <th>title</th>\n",
       "      <th>genres</th>\n",
       "      <th>year</th>\n",
       "    </tr>\n",
       "  </thead>\n",
       "  <tbody>\n",
       "    <tr>\n",
       "      <th>4614</th>\n",
       "      <td>4719</td>\n",
       "      <td>Osmosis Jones</td>\n",
       "      <td>[Action, Animation, Comedy, Crime, Drama, Roma...</td>\n",
       "      <td>2001</td>\n",
       "    </tr>\n",
       "    <tr>\n",
       "      <th>4912</th>\n",
       "      <td>5018</td>\n",
       "      <td>Motorama</td>\n",
       "      <td>[Adventure, Comedy, Crime, Drama, Fantasy, Mys...</td>\n",
       "      <td>1991</td>\n",
       "    </tr>\n",
       "    <tr>\n",
       "      <th>6779</th>\n",
       "      <td>6902</td>\n",
       "      <td>Interstate 60</td>\n",
       "      <td>[Adventure, Comedy, Drama, Fantasy, Mystery, S...</td>\n",
       "      <td>2002</td>\n",
       "    </tr>\n",
       "    <tr>\n",
       "      <th>9177</th>\n",
       "      <td>27344</td>\n",
       "      <td>Revolutionary Girl Utena: Adolescence of Utena...</td>\n",
       "      <td>[Action, Adventure, Animation, Comedy, Drama, ...</td>\n",
       "      <td>1999</td>\n",
       "    </tr>\n",
       "    <tr>\n",
       "      <th>12879</th>\n",
       "      <td>64645</td>\n",
       "      <td>The Wrecking Crew</td>\n",
       "      <td>[Action, Adventure, Comedy, Crime, Drama, Thri...</td>\n",
       "      <td>1968</td>\n",
       "    </tr>\n",
       "    <tr>\n",
       "      <th>15389</th>\n",
       "      <td>81132</td>\n",
       "      <td>Rubber</td>\n",
       "      <td>[Action, Adventure, Comedy, Crime, Drama, Film...</td>\n",
       "      <td>2010</td>\n",
       "    </tr>\n",
       "    <tr>\n",
       "      <th>23306</th>\n",
       "      <td>117646</td>\n",
       "      <td>Dragonheart 2: A New Beginning</td>\n",
       "      <td>[Action, Adventure, Comedy, Drama, Fantasy, Th...</td>\n",
       "      <td>2000</td>\n",
       "    </tr>\n",
       "    <tr>\n",
       "      <th>25008</th>\n",
       "      <td>122787</td>\n",
       "      <td>The 39 Steps</td>\n",
       "      <td>[Action, Adventure, Comedy, Crime, Drama, Thri...</td>\n",
       "      <td>1959</td>\n",
       "    </tr>\n",
       "    <tr>\n",
       "      <th>33940</th>\n",
       "      <td>144324</td>\n",
       "      <td>Once Upon a Time</td>\n",
       "      <td>[Action, Adventure, Comedy, Crime, Drama, Roma...</td>\n",
       "      <td>2008</td>\n",
       "    </tr>\n",
       "    <tr>\n",
       "      <th>36115</th>\n",
       "      <td>149488</td>\n",
       "      <td>Christmas Town</td>\n",
       "      <td>[Action, Children, Comedy, Drama, Fantasy, Thr...</td>\n",
       "      <td>2008</td>\n",
       "    </tr>\n",
       "  </tbody>\n",
       "</table>\n",
       "</div>"
      ],
      "text/plain": [
       "       movieId                                              title  \\\n",
       "4614      4719                                      Osmosis Jones   \n",
       "4912      5018                                           Motorama   \n",
       "6779      6902                                      Interstate 60   \n",
       "9177     27344  Revolutionary Girl Utena: Adolescence of Utena...   \n",
       "12879    64645                                  The Wrecking Crew   \n",
       "15389    81132                                             Rubber   \n",
       "23306   117646                     Dragonheart 2: A New Beginning   \n",
       "25008   122787                                       The 39 Steps   \n",
       "33940   144324                                   Once Upon a Time   \n",
       "36115   149488                                     Christmas Town   \n",
       "\n",
       "                                                  genres  year  \n",
       "4614   [Action, Animation, Comedy, Crime, Drama, Roma...  2001  \n",
       "4912   [Adventure, Comedy, Crime, Drama, Fantasy, Mys...  1991  \n",
       "6779   [Adventure, Comedy, Drama, Fantasy, Mystery, S...  2002  \n",
       "9177   [Action, Adventure, Animation, Comedy, Drama, ...  1999  \n",
       "12879  [Action, Adventure, Comedy, Crime, Drama, Thri...  1968  \n",
       "15389  [Action, Adventure, Comedy, Crime, Drama, Film...  2010  \n",
       "23306  [Action, Adventure, Comedy, Drama, Fantasy, Th...  2000  \n",
       "25008  [Action, Adventure, Comedy, Crime, Drama, Thri...  1959  \n",
       "33940  [Action, Adventure, Comedy, Crime, Drama, Roma...  2008  \n",
       "36115  [Action, Children, Comedy, Drama, Fantasy, Thr...  2008  "
      ]
     },
     "execution_count": 21,
     "metadata": {},
     "output_type": "execute_result"
    }
   ],
   "source": [
    "movies_df.loc[movies_df['movieId'].isin(recommendationTable_df.head(10).keys())]"
   ]
  },
  {
   "cell_type": "markdown",
   "id": "ceef907c",
   "metadata": {
    "papermill": {
     "duration": 0.012857,
     "end_time": "2025-06-02T19:11:40.475555",
     "exception": false,
     "start_time": "2025-06-02T19:11:40.462698",
     "status": "completed"
    },
    "tags": []
   },
   "source": [
    "<h2>Collaborative Filtering</h2>"
   ]
  },
  {
   "cell_type": "markdown",
   "id": "a970e52d",
   "metadata": {
    "papermill": {
     "duration": 0.013073,
     "end_time": "2025-06-02T19:11:40.501564",
     "exception": false,
     "start_time": "2025-06-02T19:11:40.488491",
     "status": "completed"
    },
    "tags": []
   },
   "source": [
    "reading and entering csv files with pandas as dataframe"
   ]
  },
  {
   "cell_type": "code",
   "execution_count": 22,
   "id": "3b072623",
   "metadata": {
    "execution": {
     "iopub.execute_input": "2025-06-02T19:11:40.529736Z",
     "iopub.status.busy": "2025-06-02T19:11:40.529455Z",
     "iopub.status.idle": "2025-06-02T19:11:50.557929Z",
     "shell.execute_reply": "2025-06-02T19:11:50.557196Z"
    },
    "papermill": {
     "duration": 10.044213,
     "end_time": "2025-06-02T19:11:50.559609",
     "exception": false,
     "start_time": "2025-06-02T19:11:40.515396",
     "status": "completed"
    },
    "tags": []
   },
   "outputs": [],
   "source": [
    "movies_df = pd.read_csv('/kaggle/input/movie-recommendation-system/movies.csv')\n",
    "ratings_df = pd.read_csv('/kaggle/input/movie-recommendation-system/ratings.csv')"
   ]
  },
  {
   "cell_type": "markdown",
   "id": "3d89ba5b",
   "metadata": {
    "papermill": {
     "duration": 0.012763,
     "end_time": "2025-06-02T19:11:50.585792",
     "exception": false,
     "start_time": "2025-06-02T19:11:50.573029",
     "status": "completed"
    },
    "tags": []
   },
   "source": [
    "Seprating years of movies from title and creating and moving them to year column"
   ]
  },
  {
   "cell_type": "code",
   "execution_count": 23,
   "id": "0864a595",
   "metadata": {
    "execution": {
     "iopub.execute_input": "2025-06-02T19:11:50.613683Z",
     "iopub.status.busy": "2025-06-02T19:11:50.613388Z",
     "iopub.status.idle": "2025-06-02T19:11:50.768027Z",
     "shell.execute_reply": "2025-06-02T19:11:50.767093Z"
    },
    "papermill": {
     "duration": 0.170371,
     "end_time": "2025-06-02T19:11:50.769532",
     "exception": false,
     "start_time": "2025-06-02T19:11:50.599161",
     "status": "completed"
    },
    "tags": []
   },
   "outputs": [
    {
     "data": {
      "text/html": [
       "<div>\n",
       "<style scoped>\n",
       "    .dataframe tbody tr th:only-of-type {\n",
       "        vertical-align: middle;\n",
       "    }\n",
       "\n",
       "    .dataframe tbody tr th {\n",
       "        vertical-align: top;\n",
       "    }\n",
       "\n",
       "    .dataframe thead th {\n",
       "        text-align: right;\n",
       "    }\n",
       "</style>\n",
       "<table border=\"1\" class=\"dataframe\">\n",
       "  <thead>\n",
       "    <tr style=\"text-align: right;\">\n",
       "      <th></th>\n",
       "      <th>movieId</th>\n",
       "      <th>title</th>\n",
       "      <th>genres</th>\n",
       "      <th>year</th>\n",
       "    </tr>\n",
       "  </thead>\n",
       "  <tbody>\n",
       "    <tr>\n",
       "      <th>0</th>\n",
       "      <td>1</td>\n",
       "      <td>Toy Story</td>\n",
       "      <td>Adventure|Animation|Children|Comedy|Fantasy</td>\n",
       "      <td>1995</td>\n",
       "    </tr>\n",
       "    <tr>\n",
       "      <th>1</th>\n",
       "      <td>2</td>\n",
       "      <td>Jumanji</td>\n",
       "      <td>Adventure|Children|Fantasy</td>\n",
       "      <td>1995</td>\n",
       "    </tr>\n",
       "    <tr>\n",
       "      <th>2</th>\n",
       "      <td>3</td>\n",
       "      <td>Grumpier Old Men</td>\n",
       "      <td>Comedy|Romance</td>\n",
       "      <td>1995</td>\n",
       "    </tr>\n",
       "    <tr>\n",
       "      <th>3</th>\n",
       "      <td>4</td>\n",
       "      <td>Waiting to Exhale</td>\n",
       "      <td>Comedy|Drama|Romance</td>\n",
       "      <td>1995</td>\n",
       "    </tr>\n",
       "    <tr>\n",
       "      <th>4</th>\n",
       "      <td>5</td>\n",
       "      <td>Father of the Bride Part II</td>\n",
       "      <td>Comedy</td>\n",
       "      <td>1995</td>\n",
       "    </tr>\n",
       "  </tbody>\n",
       "</table>\n",
       "</div>"
      ],
      "text/plain": [
       "   movieId                        title  \\\n",
       "0        1                    Toy Story   \n",
       "1        2                      Jumanji   \n",
       "2        3             Grumpier Old Men   \n",
       "3        4            Waiting to Exhale   \n",
       "4        5  Father of the Bride Part II   \n",
       "\n",
       "                                        genres  year  \n",
       "0  Adventure|Animation|Children|Comedy|Fantasy  1995  \n",
       "1                   Adventure|Children|Fantasy  1995  \n",
       "2                               Comedy|Romance  1995  \n",
       "3                         Comedy|Drama|Romance  1995  \n",
       "4                                       Comedy  1995  "
      ]
     },
     "execution_count": 23,
     "metadata": {},
     "output_type": "execute_result"
    }
   ],
   "source": [
    "#creating year column in movie dataframe and using extract function with regex in title to copy the years with parentheses to year column\n",
    "movies_df['year'] = movies_df.title.str.extract(r'(\\(\\d\\d\\d\\d\\))',expand=False)\n",
    "#same method and function but we choose year column this time and choose the years without their parentheses\n",
    "movies_df['year'] = movies_df.year.str.extract(r'(\\d\\d\\d\\d)',expand=False)\n",
    "#using replace function in title to choose the years with parentheses and replace them with nothing, in order to delete them.\n",
    "movies_df['title'] = movies_df['title'].str.replace(r'\\(\\d{4}\\)', '', regex=True)\n",
    "#using strip function to remove any extra space in beginning and end of movies titles\n",
    "movies_df['title'] = movies_df['title'].apply(lambda x: x.strip())\n",
    "movies_df.head()"
   ]
  },
  {
   "cell_type": "code",
   "execution_count": 24,
   "id": "5c8d0fd7",
   "metadata": {
    "execution": {
     "iopub.execute_input": "2025-06-02T19:11:50.797830Z",
     "iopub.status.busy": "2025-06-02T19:11:50.797521Z",
     "iopub.status.idle": "2025-06-02T19:11:50.806470Z",
     "shell.execute_reply": "2025-06-02T19:11:50.805676Z"
    },
    "papermill": {
     "duration": 0.024475,
     "end_time": "2025-06-02T19:11:50.807829",
     "exception": false,
     "start_time": "2025-06-02T19:11:50.783354",
     "status": "completed"
    },
    "tags": []
   },
   "outputs": [
    {
     "data": {
      "text/html": [
       "<div>\n",
       "<style scoped>\n",
       "    .dataframe tbody tr th:only-of-type {\n",
       "        vertical-align: middle;\n",
       "    }\n",
       "\n",
       "    .dataframe tbody tr th {\n",
       "        vertical-align: top;\n",
       "    }\n",
       "\n",
       "    .dataframe thead th {\n",
       "        text-align: right;\n",
       "    }\n",
       "</style>\n",
       "<table border=\"1\" class=\"dataframe\">\n",
       "  <thead>\n",
       "    <tr style=\"text-align: right;\">\n",
       "      <th></th>\n",
       "      <th>movieId</th>\n",
       "      <th>title</th>\n",
       "      <th>genres</th>\n",
       "      <th>year</th>\n",
       "    </tr>\n",
       "  </thead>\n",
       "  <tbody>\n",
       "    <tr>\n",
       "      <th>0</th>\n",
       "      <td>1</td>\n",
       "      <td>Toy Story</td>\n",
       "      <td>Adventure|Animation|Children|Comedy|Fantasy</td>\n",
       "      <td>1995</td>\n",
       "    </tr>\n",
       "    <tr>\n",
       "      <th>1</th>\n",
       "      <td>2</td>\n",
       "      <td>Jumanji</td>\n",
       "      <td>Adventure|Children|Fantasy</td>\n",
       "      <td>1995</td>\n",
       "    </tr>\n",
       "    <tr>\n",
       "      <th>2</th>\n",
       "      <td>3</td>\n",
       "      <td>Grumpier Old Men</td>\n",
       "      <td>Comedy|Romance</td>\n",
       "      <td>1995</td>\n",
       "    </tr>\n",
       "    <tr>\n",
       "      <th>3</th>\n",
       "      <td>4</td>\n",
       "      <td>Waiting to Exhale</td>\n",
       "      <td>Comedy|Drama|Romance</td>\n",
       "      <td>1995</td>\n",
       "    </tr>\n",
       "    <tr>\n",
       "      <th>4</th>\n",
       "      <td>5</td>\n",
       "      <td>Father of the Bride Part II</td>\n",
       "      <td>Comedy</td>\n",
       "      <td>1995</td>\n",
       "    </tr>\n",
       "  </tbody>\n",
       "</table>\n",
       "</div>"
      ],
      "text/plain": [
       "   movieId                        title  \\\n",
       "0        1                    Toy Story   \n",
       "1        2                      Jumanji   \n",
       "2        3             Grumpier Old Men   \n",
       "3        4            Waiting to Exhale   \n",
       "4        5  Father of the Bride Part II   \n",
       "\n",
       "                                        genres  year  \n",
       "0  Adventure|Animation|Children|Comedy|Fantasy  1995  \n",
       "1                   Adventure|Children|Fantasy  1995  \n",
       "2                               Comedy|Romance  1995  \n",
       "3                         Comedy|Drama|Romance  1995  \n",
       "4                                       Comedy  1995  "
      ]
     },
     "execution_count": 24,
     "metadata": {},
     "output_type": "execute_result"
    }
   ],
   "source": [
    "movies_df.head()"
   ]
  },
  {
   "cell_type": "code",
   "execution_count": 25,
   "id": "8c547cc8",
   "metadata": {
    "execution": {
     "iopub.execute_input": "2025-06-02T19:11:50.836007Z",
     "iopub.status.busy": "2025-06-02T19:11:50.835701Z",
     "iopub.status.idle": "2025-06-02T19:11:50.844400Z",
     "shell.execute_reply": "2025-06-02T19:11:50.843663Z"
    },
    "papermill": {
     "duration": 0.024452,
     "end_time": "2025-06-02T19:11:50.845799",
     "exception": false,
     "start_time": "2025-06-02T19:11:50.821347",
     "status": "completed"
    },
    "tags": []
   },
   "outputs": [
    {
     "data": {
      "text/html": [
       "<div>\n",
       "<style scoped>\n",
       "    .dataframe tbody tr th:only-of-type {\n",
       "        vertical-align: middle;\n",
       "    }\n",
       "\n",
       "    .dataframe tbody tr th {\n",
       "        vertical-align: top;\n",
       "    }\n",
       "\n",
       "    .dataframe thead th {\n",
       "        text-align: right;\n",
       "    }\n",
       "</style>\n",
       "<table border=\"1\" class=\"dataframe\">\n",
       "  <thead>\n",
       "    <tr style=\"text-align: right;\">\n",
       "      <th></th>\n",
       "      <th>userId</th>\n",
       "      <th>movieId</th>\n",
       "      <th>rating</th>\n",
       "      <th>timestamp</th>\n",
       "    </tr>\n",
       "  </thead>\n",
       "  <tbody>\n",
       "    <tr>\n",
       "      <th>0</th>\n",
       "      <td>1</td>\n",
       "      <td>296</td>\n",
       "      <td>5.0</td>\n",
       "      <td>1147880044</td>\n",
       "    </tr>\n",
       "    <tr>\n",
       "      <th>1</th>\n",
       "      <td>1</td>\n",
       "      <td>306</td>\n",
       "      <td>3.5</td>\n",
       "      <td>1147868817</td>\n",
       "    </tr>\n",
       "    <tr>\n",
       "      <th>2</th>\n",
       "      <td>1</td>\n",
       "      <td>307</td>\n",
       "      <td>5.0</td>\n",
       "      <td>1147868828</td>\n",
       "    </tr>\n",
       "    <tr>\n",
       "      <th>3</th>\n",
       "      <td>1</td>\n",
       "      <td>665</td>\n",
       "      <td>5.0</td>\n",
       "      <td>1147878820</td>\n",
       "    </tr>\n",
       "    <tr>\n",
       "      <th>4</th>\n",
       "      <td>1</td>\n",
       "      <td>899</td>\n",
       "      <td>3.5</td>\n",
       "      <td>1147868510</td>\n",
       "    </tr>\n",
       "  </tbody>\n",
       "</table>\n",
       "</div>"
      ],
      "text/plain": [
       "   userId  movieId  rating   timestamp\n",
       "0       1      296     5.0  1147880044\n",
       "1       1      306     3.5  1147868817\n",
       "2       1      307     5.0  1147868828\n",
       "3       1      665     5.0  1147878820\n",
       "4       1      899     3.5  1147868510"
      ]
     },
     "execution_count": 25,
     "metadata": {},
     "output_type": "execute_result"
    }
   ],
   "source": [
    "ratings_df.head()"
   ]
  },
  {
   "cell_type": "code",
   "execution_count": 26,
   "id": "2a8a9b14",
   "metadata": {
    "execution": {
     "iopub.execute_input": "2025-06-02T19:11:50.874567Z",
     "iopub.status.busy": "2025-06-02T19:11:50.874261Z",
     "iopub.status.idle": "2025-06-02T19:11:51.133565Z",
     "shell.execute_reply": "2025-06-02T19:11:51.132750Z"
    },
    "papermill": {
     "duration": 0.275775,
     "end_time": "2025-06-02T19:11:51.135281",
     "exception": false,
     "start_time": "2025-06-02T19:11:50.859506",
     "status": "completed"
    },
    "tags": []
   },
   "outputs": [],
   "source": [
    "#using drop function to delete timestamp column from dataframe to save memory cause we dont need it\n",
    "ratings_df = ratings_df.drop('timestamp', axis=1)\n",
    "#Dropping the genres column\n",
    "movies_df = movies_df.drop('genres', axis=1)"
   ]
  },
  {
   "cell_type": "code",
   "execution_count": 27,
   "id": "8b40739f",
   "metadata": {
    "execution": {
     "iopub.execute_input": "2025-06-02T19:11:51.165360Z",
     "iopub.status.busy": "2025-06-02T19:11:51.164693Z",
     "iopub.status.idle": "2025-06-02T19:11:51.173941Z",
     "shell.execute_reply": "2025-06-02T19:11:51.172990Z"
    },
    "papermill": {
     "duration": 0.026353,
     "end_time": "2025-06-02T19:11:51.175427",
     "exception": false,
     "start_time": "2025-06-02T19:11:51.149074",
     "status": "completed"
    },
    "tags": []
   },
   "outputs": [
    {
     "data": {
      "text/html": [
       "<div>\n",
       "<style scoped>\n",
       "    .dataframe tbody tr th:only-of-type {\n",
       "        vertical-align: middle;\n",
       "    }\n",
       "\n",
       "    .dataframe tbody tr th {\n",
       "        vertical-align: top;\n",
       "    }\n",
       "\n",
       "    .dataframe thead th {\n",
       "        text-align: right;\n",
       "    }\n",
       "</style>\n",
       "<table border=\"1\" class=\"dataframe\">\n",
       "  <thead>\n",
       "    <tr style=\"text-align: right;\">\n",
       "      <th></th>\n",
       "      <th>userId</th>\n",
       "      <th>movieId</th>\n",
       "      <th>rating</th>\n",
       "    </tr>\n",
       "  </thead>\n",
       "  <tbody>\n",
       "    <tr>\n",
       "      <th>0</th>\n",
       "      <td>1</td>\n",
       "      <td>296</td>\n",
       "      <td>5.0</td>\n",
       "    </tr>\n",
       "    <tr>\n",
       "      <th>1</th>\n",
       "      <td>1</td>\n",
       "      <td>306</td>\n",
       "      <td>3.5</td>\n",
       "    </tr>\n",
       "    <tr>\n",
       "      <th>2</th>\n",
       "      <td>1</td>\n",
       "      <td>307</td>\n",
       "      <td>5.0</td>\n",
       "    </tr>\n",
       "    <tr>\n",
       "      <th>3</th>\n",
       "      <td>1</td>\n",
       "      <td>665</td>\n",
       "      <td>5.0</td>\n",
       "    </tr>\n",
       "    <tr>\n",
       "      <th>4</th>\n",
       "      <td>1</td>\n",
       "      <td>899</td>\n",
       "      <td>3.5</td>\n",
       "    </tr>\n",
       "  </tbody>\n",
       "</table>\n",
       "</div>"
      ],
      "text/plain": [
       "   userId  movieId  rating\n",
       "0       1      296     5.0\n",
       "1       1      306     3.5\n",
       "2       1      307     5.0\n",
       "3       1      665     5.0\n",
       "4       1      899     3.5"
      ]
     },
     "execution_count": 27,
     "metadata": {},
     "output_type": "execute_result"
    }
   ],
   "source": [
    "ratings_df.head()"
   ]
  },
  {
   "cell_type": "markdown",
   "id": "e70189a2",
   "metadata": {
    "papermill": {
     "duration": 0.014331,
     "end_time": "2025-06-02T19:11:51.206421",
     "exception": false,
     "start_time": "2025-06-02T19:11:51.192090",
     "status": "completed"
    },
    "tags": []
   },
   "source": [
    "<h2>User Based recommendation system</h2> "
   ]
  },
  {
   "cell_type": "markdown",
   "id": "2f0d66b0",
   "metadata": {
    "papermill": {
     "duration": 0.013229,
     "end_time": "2025-06-02T19:11:51.233197",
     "exception": false,
     "start_time": "2025-06-02T19:11:51.219968",
     "status": "completed"
    },
    "tags": []
   },
   "source": [
    "Making costume user input and making it a dataframe(matrix)"
   ]
  },
  {
   "cell_type": "code",
   "execution_count": 28,
   "id": "dc4228fc",
   "metadata": {
    "execution": {
     "iopub.execute_input": "2025-06-02T19:11:51.262067Z",
     "iopub.status.busy": "2025-06-02T19:11:51.261352Z",
     "iopub.status.idle": "2025-06-02T19:11:51.270932Z",
     "shell.execute_reply": "2025-06-02T19:11:51.270153Z"
    },
    "papermill": {
     "duration": 0.0255,
     "end_time": "2025-06-02T19:11:51.272333",
     "exception": false,
     "start_time": "2025-06-02T19:11:51.246833",
     "status": "completed"
    },
    "tags": []
   },
   "outputs": [
    {
     "data": {
      "text/html": [
       "<div>\n",
       "<style scoped>\n",
       "    .dataframe tbody tr th:only-of-type {\n",
       "        vertical-align: middle;\n",
       "    }\n",
       "\n",
       "    .dataframe tbody tr th {\n",
       "        vertical-align: top;\n",
       "    }\n",
       "\n",
       "    .dataframe thead th {\n",
       "        text-align: right;\n",
       "    }\n",
       "</style>\n",
       "<table border=\"1\" class=\"dataframe\">\n",
       "  <thead>\n",
       "    <tr style=\"text-align: right;\">\n",
       "      <th></th>\n",
       "      <th>title</th>\n",
       "      <th>rating</th>\n",
       "    </tr>\n",
       "  </thead>\n",
       "  <tbody>\n",
       "    <tr>\n",
       "      <th>0</th>\n",
       "      <td>Breakfast Club, The</td>\n",
       "      <td>5.0</td>\n",
       "    </tr>\n",
       "    <tr>\n",
       "      <th>1</th>\n",
       "      <td>Toy Story</td>\n",
       "      <td>3.5</td>\n",
       "    </tr>\n",
       "    <tr>\n",
       "      <th>2</th>\n",
       "      <td>Jumanji</td>\n",
       "      <td>2.0</td>\n",
       "    </tr>\n",
       "    <tr>\n",
       "      <th>3</th>\n",
       "      <td>Pulp Fiction</td>\n",
       "      <td>5.0</td>\n",
       "    </tr>\n",
       "    <tr>\n",
       "      <th>4</th>\n",
       "      <td>Akira</td>\n",
       "      <td>4.5</td>\n",
       "    </tr>\n",
       "  </tbody>\n",
       "</table>\n",
       "</div>"
      ],
      "text/plain": [
       "                 title  rating\n",
       "0  Breakfast Club, The     5.0\n",
       "1            Toy Story     3.5\n",
       "2              Jumanji     2.0\n",
       "3         Pulp Fiction     5.0\n",
       "4                Akira     4.5"
      ]
     },
     "execution_count": 28,
     "metadata": {},
     "output_type": "execute_result"
    }
   ],
   "source": [
    "userInput = [\n",
    "            {'title':'Breakfast Club, The', 'rating':5},\n",
    "            {'title':'Toy Story', 'rating':3.5},\n",
    "            {'title':'Jumanji', 'rating':2},\n",
    "            {'title':\"Pulp Fiction\", 'rating':5},\n",
    "            {'title':'Akira', 'rating':4.5}\n",
    "         ] \n",
    "inputMovies = pd.DataFrame(userInput)\n",
    "inputMovies"
   ]
  },
  {
   "cell_type": "markdown",
   "id": "85eda7dc",
   "metadata": {
    "papermill": {
     "duration": 0.013564,
     "end_time": "2025-06-02T19:11:51.299912",
     "exception": false,
     "start_time": "2025-06-02T19:11:51.286348",
     "status": "completed"
    },
    "tags": []
   },
   "source": [
    "finding the movies the person saw based on name in movie dataframe and keeping them with their ratings"
   ]
  },
  {
   "cell_type": "code",
   "execution_count": 29,
   "id": "7e2aec32",
   "metadata": {
    "execution": {
     "iopub.execute_input": "2025-06-02T19:11:51.328783Z",
     "iopub.status.busy": "2025-06-02T19:11:51.328484Z",
     "iopub.status.idle": "2025-06-02T19:11:51.351138Z",
     "shell.execute_reply": "2025-06-02T19:11:51.350319Z"
    },
    "papermill": {
     "duration": 0.038923,
     "end_time": "2025-06-02T19:11:51.352621",
     "exception": false,
     "start_time": "2025-06-02T19:11:51.313698",
     "status": "completed"
    },
    "tags": []
   },
   "outputs": [
    {
     "data": {
      "text/html": [
       "<div>\n",
       "<style scoped>\n",
       "    .dataframe tbody tr th:only-of-type {\n",
       "        vertical-align: middle;\n",
       "    }\n",
       "\n",
       "    .dataframe tbody tr th {\n",
       "        vertical-align: top;\n",
       "    }\n",
       "\n",
       "    .dataframe thead th {\n",
       "        text-align: right;\n",
       "    }\n",
       "</style>\n",
       "<table border=\"1\" class=\"dataframe\">\n",
       "  <thead>\n",
       "    <tr style=\"text-align: right;\">\n",
       "      <th></th>\n",
       "      <th>movieId</th>\n",
       "      <th>title</th>\n",
       "      <th>rating</th>\n",
       "    </tr>\n",
       "  </thead>\n",
       "  <tbody>\n",
       "    <tr>\n",
       "      <th>0</th>\n",
       "      <td>1</td>\n",
       "      <td>Toy Story</td>\n",
       "      <td>3.5</td>\n",
       "    </tr>\n",
       "    <tr>\n",
       "      <th>1</th>\n",
       "      <td>2</td>\n",
       "      <td>Jumanji</td>\n",
       "      <td>2.0</td>\n",
       "    </tr>\n",
       "    <tr>\n",
       "      <th>2</th>\n",
       "      <td>296</td>\n",
       "      <td>Pulp Fiction</td>\n",
       "      <td>5.0</td>\n",
       "    </tr>\n",
       "    <tr>\n",
       "      <th>3</th>\n",
       "      <td>1274</td>\n",
       "      <td>Akira</td>\n",
       "      <td>4.5</td>\n",
       "    </tr>\n",
       "    <tr>\n",
       "      <th>4</th>\n",
       "      <td>1968</td>\n",
       "      <td>Breakfast Club, The</td>\n",
       "      <td>5.0</td>\n",
       "    </tr>\n",
       "    <tr>\n",
       "      <th>5</th>\n",
       "      <td>164600</td>\n",
       "      <td>Akira</td>\n",
       "      <td>4.5</td>\n",
       "    </tr>\n",
       "  </tbody>\n",
       "</table>\n",
       "</div>"
      ],
      "text/plain": [
       "   movieId                title  rating\n",
       "0        1            Toy Story     3.5\n",
       "1        2              Jumanji     2.0\n",
       "2      296         Pulp Fiction     5.0\n",
       "3     1274                Akira     4.5\n",
       "4     1968  Breakfast Club, The     5.0\n",
       "5   164600                Akira     4.5"
      ]
     },
     "execution_count": 29,
     "metadata": {},
     "output_type": "execute_result"
    }
   ],
   "source": [
    "#finding and choosing the movies that have same movie name as our input in movies dataframe and copying them to inputid\n",
    "inputId = movies_df[movies_df['title'].isin(inputMovies['title'].tolist())]\n",
    "#merging inputid(movies that the person saw) with his ratings, making the user rating matrix\n",
    "inputMovies = pd.merge(inputId, inputMovies)\n",
    "#deleting columns we dont need from our new dataframe\n",
    "inputMovies = inputMovies.drop('year', axis=1)\n",
    "inputMovies"
   ]
  },
  {
   "cell_type": "markdown",
   "id": "0d52893b",
   "metadata": {
    "papermill": {
     "duration": 0.014834,
     "end_time": "2025-06-02T19:11:51.381729",
     "exception": false,
     "start_time": "2025-06-02T19:11:51.366895",
     "status": "completed"
    },
    "tags": []
   },
   "source": [
    "making a dataframe of every ratings that the movies have gotten, rating matrix"
   ]
  },
  {
   "cell_type": "code",
   "execution_count": 30,
   "id": "7c2959da",
   "metadata": {
    "execution": {
     "iopub.execute_input": "2025-06-02T19:11:51.411233Z",
     "iopub.status.busy": "2025-06-02T19:11:51.410889Z",
     "iopub.status.idle": "2025-06-02T19:11:51.748957Z",
     "shell.execute_reply": "2025-06-02T19:11:51.748180Z"
    },
    "papermill": {
     "duration": 0.354512,
     "end_time": "2025-06-02T19:11:51.750383",
     "exception": false,
     "start_time": "2025-06-02T19:11:51.395871",
     "status": "completed"
    },
    "tags": []
   },
   "outputs": [
    {
     "data": {
      "text/html": [
       "<div>\n",
       "<style scoped>\n",
       "    .dataframe tbody tr th:only-of-type {\n",
       "        vertical-align: middle;\n",
       "    }\n",
       "\n",
       "    .dataframe tbody tr th {\n",
       "        vertical-align: top;\n",
       "    }\n",
       "\n",
       "    .dataframe thead th {\n",
       "        text-align: right;\n",
       "    }\n",
       "</style>\n",
       "<table border=\"1\" class=\"dataframe\">\n",
       "  <thead>\n",
       "    <tr style=\"text-align: right;\">\n",
       "      <th></th>\n",
       "      <th>userId</th>\n",
       "      <th>movieId</th>\n",
       "      <th>rating</th>\n",
       "    </tr>\n",
       "  </thead>\n",
       "  <tbody>\n",
       "    <tr>\n",
       "      <th>0</th>\n",
       "      <td>1</td>\n",
       "      <td>296</td>\n",
       "      <td>5.0</td>\n",
       "    </tr>\n",
       "    <tr>\n",
       "      <th>70</th>\n",
       "      <td>2</td>\n",
       "      <td>1</td>\n",
       "      <td>3.5</td>\n",
       "    </tr>\n",
       "    <tr>\n",
       "      <th>141</th>\n",
       "      <td>2</td>\n",
       "      <td>1968</td>\n",
       "      <td>1.0</td>\n",
       "    </tr>\n",
       "    <tr>\n",
       "      <th>254</th>\n",
       "      <td>3</td>\n",
       "      <td>1</td>\n",
       "      <td>4.0</td>\n",
       "    </tr>\n",
       "    <tr>\n",
       "      <th>264</th>\n",
       "      <td>3</td>\n",
       "      <td>296</td>\n",
       "      <td>5.0</td>\n",
       "    </tr>\n",
       "  </tbody>\n",
       "</table>\n",
       "</div>"
      ],
      "text/plain": [
       "     userId  movieId  rating\n",
       "0         1      296     5.0\n",
       "70        2        1     3.5\n",
       "141       2     1968     1.0\n",
       "254       3        1     4.0\n",
       "264       3      296     5.0"
      ]
     },
     "execution_count": 30,
     "metadata": {},
     "output_type": "execute_result"
    }
   ],
   "source": [
    "#Filtering out users that have watched movies that the input has watched and storing it \n",
    "userSubset = ratings_df[ratings_df['movieId'].isin(inputMovies['movieId'].tolist())]\n",
    "userSubset.head() "
   ]
  },
  {
   "cell_type": "markdown",
   "id": "576fdfcd",
   "metadata": {
    "papermill": {
     "duration": 0.013872,
     "end_time": "2025-06-02T19:11:51.778575",
     "exception": false,
     "start_time": "2025-06-02T19:11:51.764703",
     "status": "completed"
    },
    "tags": []
   },
   "source": [
    "making every person a subset group containing his ratings of movies"
   ]
  },
  {
   "cell_type": "code",
   "execution_count": 31,
   "id": "9f2edc10",
   "metadata": {
    "execution": {
     "iopub.execute_input": "2025-06-02T19:11:51.807711Z",
     "iopub.status.busy": "2025-06-02T19:11:51.807412Z",
     "iopub.status.idle": "2025-06-02T19:11:51.813426Z",
     "shell.execute_reply": "2025-06-02T19:11:51.812676Z"
    },
    "papermill": {
     "duration": 0.022142,
     "end_time": "2025-06-02T19:11:51.814662",
     "exception": false,
     "start_time": "2025-06-02T19:11:51.792520",
     "status": "completed"
    },
    "tags": []
   },
   "outputs": [
    {
     "data": {
      "text/plain": [
       "<pandas.core.groupby.generic.DataFrameGroupBy object at 0x78e300156e90>"
      ]
     },
     "execution_count": 31,
     "metadata": {},
     "output_type": "execute_result"
    }
   ],
   "source": [
    "#Groupby creates several sub dataframes where they all have the same value in the column specified as the parameter\n",
    "userSubsetGroup = userSubset.groupby('userId')\n",
    "userSubsetGroup"
   ]
  },
  {
   "cell_type": "code",
   "execution_count": 32,
   "id": "b3e25754",
   "metadata": {
    "execution": {
     "iopub.execute_input": "2025-06-02T19:11:51.844244Z",
     "iopub.status.busy": "2025-06-02T19:11:51.843887Z",
     "iopub.status.idle": "2025-06-02T19:11:51.964711Z",
     "shell.execute_reply": "2025-06-02T19:11:51.963918Z"
    },
    "papermill": {
     "duration": 0.137308,
     "end_time": "2025-06-02T19:11:51.966260",
     "exception": false,
     "start_time": "2025-06-02T19:11:51.828952",
     "status": "completed"
    },
    "tags": []
   },
   "outputs": [
    {
     "data": {
      "text/html": [
       "<div>\n",
       "<style scoped>\n",
       "    .dataframe tbody tr th:only-of-type {\n",
       "        vertical-align: middle;\n",
       "    }\n",
       "\n",
       "    .dataframe tbody tr th {\n",
       "        vertical-align: top;\n",
       "    }\n",
       "\n",
       "    .dataframe thead th {\n",
       "        text-align: right;\n",
       "    }\n",
       "</style>\n",
       "<table border=\"1\" class=\"dataframe\">\n",
       "  <thead>\n",
       "    <tr style=\"text-align: right;\">\n",
       "      <th></th>\n",
       "      <th>userId</th>\n",
       "      <th>movieId</th>\n",
       "      <th>rating</th>\n",
       "    </tr>\n",
       "  </thead>\n",
       "  <tbody>\n",
       "    <tr>\n",
       "      <th>0</th>\n",
       "      <td>1</td>\n",
       "      <td>296</td>\n",
       "      <td>5.0</td>\n",
       "    </tr>\n",
       "  </tbody>\n",
       "</table>\n",
       "</div>"
      ],
      "text/plain": [
       "   userId  movieId  rating\n",
       "0       1      296     5.0"
      ]
     },
     "execution_count": 32,
     "metadata": {},
     "output_type": "execute_result"
    }
   ],
   "source": [
    "userSubsetGroup.get_group(1)"
   ]
  },
  {
   "cell_type": "code",
   "execution_count": 33,
   "id": "44f44003",
   "metadata": {
    "execution": {
     "iopub.execute_input": "2025-06-02T19:11:51.996672Z",
     "iopub.status.busy": "2025-06-02T19:11:51.996357Z",
     "iopub.status.idle": "2025-06-02T19:11:56.250445Z",
     "shell.execute_reply": "2025-06-02T19:11:56.249413Z"
    },
    "papermill": {
     "duration": 4.27148,
     "end_time": "2025-06-02T19:11:56.252394",
     "exception": false,
     "start_time": "2025-06-02T19:11:51.980914",
     "status": "completed"
    },
    "tags": []
   },
   "outputs": [],
   "source": [
    "#sorting decending based on how many movies our raters have in common with person\n",
    "userSubsetGroup = sorted(userSubsetGroup,  key=lambda x: len(x[1]), reverse=True)"
   ]
  },
  {
   "cell_type": "code",
   "execution_count": 34,
   "id": "0c5bc04b",
   "metadata": {
    "execution": {
     "iopub.execute_input": "2025-06-02T19:11:56.283103Z",
     "iopub.status.busy": "2025-06-02T19:11:56.282719Z",
     "iopub.status.idle": "2025-06-02T19:11:56.290327Z",
     "shell.execute_reply": "2025-06-02T19:11:56.289386Z"
    },
    "papermill": {
     "duration": 0.024134,
     "end_time": "2025-06-02T19:11:56.291741",
     "exception": false,
     "start_time": "2025-06-02T19:11:56.267607",
     "status": "completed"
    },
    "tags": []
   },
   "outputs": [
    {
     "data": {
      "text/plain": [
       "(43,\n",
       "       userId  movieId  rating\n",
       " 5858      43        1     4.0\n",
       " 5859      43        2     3.5\n",
       " 5884      43      296     5.0\n",
       " 5974      43     1274     4.5\n",
       " 6018      43     1968     4.5)"
      ]
     },
     "execution_count": 34,
     "metadata": {},
     "output_type": "execute_result"
    }
   ],
   "source": [
    "userSubsetGroup[0]"
   ]
  },
  {
   "cell_type": "code",
   "execution_count": 35,
   "id": "7323ac8c",
   "metadata": {
    "execution": {
     "iopub.execute_input": "2025-06-02T19:11:56.322223Z",
     "iopub.status.busy": "2025-06-02T19:11:56.321751Z",
     "iopub.status.idle": "2025-06-02T19:11:56.327428Z",
     "shell.execute_reply": "2025-06-02T19:11:56.326515Z"
    },
    "papermill": {
     "duration": 0.022596,
     "end_time": "2025-06-02T19:11:56.329007",
     "exception": false,
     "start_time": "2025-06-02T19:11:56.306411",
     "status": "completed"
    },
    "tags": []
   },
   "outputs": [
    {
     "name": "stdout",
     "output_type": "stream",
     "text": [
      "<class 'list'>\n",
      "<class 'tuple'>\n",
      "<class 'pandas.core.frame.DataFrame'>\n"
     ]
    }
   ],
   "source": [
    "print(type(userSubsetGroup))  # Should be a list\n",
    "print(type(userSubsetGroup[0]))  # Should be a tuple\n",
    "print(type(userSubsetGroup[0][1]))  # Should be a pandas DataFrame\n"
   ]
  },
  {
   "cell_type": "markdown",
   "id": "e79697f7",
   "metadata": {
    "papermill": {
     "duration": 0.014313,
     "end_time": "2025-06-02T19:11:56.358038",
     "exception": false,
     "start_time": "2025-06-02T19:11:56.343725",
     "status": "completed"
    },
    "tags": []
   },
   "source": [
    "keeps only the top 100 most similar to person"
   ]
  },
  {
   "cell_type": "code",
   "execution_count": 36,
   "id": "cea80c66",
   "metadata": {
    "execution": {
     "iopub.execute_input": "2025-06-02T19:11:56.389025Z",
     "iopub.status.busy": "2025-06-02T19:11:56.388725Z",
     "iopub.status.idle": "2025-06-02T19:11:56.599328Z",
     "shell.execute_reply": "2025-06-02T19:11:56.598329Z"
    },
    "papermill": {
     "duration": 0.227463,
     "end_time": "2025-06-02T19:11:56.600864",
     "exception": false,
     "start_time": "2025-06-02T19:11:56.373401",
     "status": "completed"
    },
    "tags": []
   },
   "outputs": [],
   "source": [
    "userSubsetGroup = userSubsetGroup[0:100]"
   ]
  },
  {
   "cell_type": "markdown",
   "id": "7616feb8",
   "metadata": {
    "papermill": {
     "duration": 0.014402,
     "end_time": "2025-06-02T19:11:56.630368",
     "exception": false,
     "start_time": "2025-06-02T19:11:56.615966",
     "status": "completed"
    },
    "tags": []
   },
   "source": [
    "using pearson correlation to know how similar they are"
   ]
  },
  {
   "cell_type": "code",
   "execution_count": 37,
   "id": "d4ad0d9e",
   "metadata": {
    "execution": {
     "iopub.execute_input": "2025-06-02T19:11:56.660350Z",
     "iopub.status.busy": "2025-06-02T19:11:56.660037Z",
     "iopub.status.idle": "2025-06-02T19:11:56.753338Z",
     "shell.execute_reply": "2025-06-02T19:11:56.752235Z"
    },
    "papermill": {
     "duration": 0.110292,
     "end_time": "2025-06-02T19:11:56.754981",
     "exception": false,
     "start_time": "2025-06-02T19:11:56.644689",
     "status": "completed"
    },
    "tags": []
   },
   "outputs": [],
   "source": [
    "#Store the Pearson Correlation in a dictionary, where the key is the user Id and the value is the coefficient\n",
    "pearsonCorrelationDict = {}\n",
    "\n",
    "#For every user in every group in our subset\n",
    "for name, group in userSubsetGroup:\n",
    "    #sort by movieid\n",
    "    group = group.sort_values(by='movieId')\n",
    "    inputMovies = inputMovies.sort_values(by='movieId')\n",
    "    #Get the N for the formula, caculating how many common movies they have\n",
    "    nRatings = len(group)\n",
    "    #Get the review scores for the movies that they both have in common\n",
    "    temp_df = inputMovies[inputMovies['movieId'].isin(group['movieId'].tolist())]\n",
    "    #And then store them in a temporary buffer variable in a list format to facilitate future calculations\n",
    "    tempRatingList = temp_df['rating'].tolist()\n",
    "    # current user group reviews in a list format\n",
    "    tempGroupList = group['rating'].tolist()\n",
    "    #pearson correlation formula\n",
    "    Sxx = sum([i**2 for i in tempRatingList]) - pow(sum(tempRatingList),2)/float(nRatings)\n",
    "    Syy = sum([i**2 for i in tempGroupList]) - pow(sum(tempGroupList),2)/float(nRatings)\n",
    "    Sxy = sum( i*j for i, j in zip(tempRatingList, tempGroupList)) - sum(tempRatingList)*sum(tempGroupList)/float(nRatings)\n",
    "    \n",
    "    #checking not to have 0 in base and devide to complete the formula\n",
    "    if Sxx != 0 and Syy != 0:\n",
    "        pearsonCorrelationDict[name] = Sxy/sqrt(Sxx*Syy)\n",
    "    else:\n",
    "        pearsonCorrelationDict[name] = 0\n"
   ]
  },
  {
   "cell_type": "code",
   "execution_count": 38,
   "id": "4860c16d",
   "metadata": {
    "execution": {
     "iopub.execute_input": "2025-06-02T19:11:56.789992Z",
     "iopub.status.busy": "2025-06-02T19:11:56.789705Z",
     "iopub.status.idle": "2025-06-02T19:11:56.797830Z",
     "shell.execute_reply": "2025-06-02T19:11:56.797008Z"
    },
    "papermill": {
     "duration": 0.028538,
     "end_time": "2025-06-02T19:11:56.799160",
     "exception": false,
     "start_time": "2025-06-02T19:11:56.770622",
     "status": "completed"
    },
    "tags": []
   },
   "outputs": [
    {
     "data": {
      "text/plain": [
       "{43: 0.9460287597114506,\n",
       " 171: 0.3288967572401365,\n",
       " 440: 0.9615384615384616,\n",
       " 597: 0.4688072309384957,\n",
       " 695: 0.8770580193070306,\n",
       " 757: 0.4385290096535153,\n",
       " 772: 0.584705346204686,\n",
       " 860: 0.8594395636904102,\n",
       " 939: 0.716114874039432,\n",
       " 1203: -0.41671450165524815,\n",
       " 1242: 0.711233325153824,\n",
       " 1401: 0.07520710469952328,\n",
       " 1652: 0.537086155529574,\n",
       " 1894: 0.6020183016345586,\n",
       " 1977: -0.323875137815648,\n",
       " 2345: 0.43852900965351493,\n",
       " 2429: 0.4385290096535153,\n",
       " 2469: 0.7161148740394331,\n",
       " 2640: -0.5264497328966636,\n",
       " 2766: -0.21926450482675575,\n",
       " 2982: 0.7307692307692307,\n",
       " 3150: -0.41602514716892186,\n",
       " 3266: 0.657793514480272,\n",
       " 3272: 0.0,\n",
       " 3274: 0.179028718509858,\n",
       " 3624: 0.6698641270570834,\n",
       " 3660: 0.7757911135427185,\n",
       " 3760: 0.5860090386731196,\n",
       " 4006: 0.179028718509858,\n",
       " 4019: 0.39666441401095853,\n",
       " 4060: 0.32328787506992,\n",
       " 4246: 0.89514359254929,\n",
       " 4410: 0.5288858853479448,\n",
       " 4420: 0.657793514480273,\n",
       " 4459: 0.8127665166512523,\n",
       " 4675: 0.537086155529574,\n",
       " 4975: 0.9176462238110027,\n",
       " 5114: -0.1860521018838127,\n",
       " 5339: 0.8320502943378437,\n",
       " 5388: 0.6577935144802716,\n",
       " 5470: 0.8600261451922266,\n",
       " 5784: -0.35805743701971654,\n",
       " 5838: 0,\n",
       " 5860: 0.2644429426739724,\n",
       " 6063: 0.7689238340176859,\n",
       " 6118: -0.5481612620668942,\n",
       " 6244: -0.6880209161537822,\n",
       " 6258: 0.8204126541423654,\n",
       " 6272: 0.5860090386731193,\n",
       " 6348: 0.716114874039432,\n",
       " 6353: 0.8594395636904102,\n",
       " 6452: 0.0,\n",
       " 6497: 0.8807048459279793,\n",
       " 6505: 0.17200522903844556,\n",
       " 6532: 0.5264497328966636,\n",
       " 6550: 0.9624354790229063,\n",
       " 6558: 0.46265194557299216,\n",
       " 6773: 0.7205766921228921,\n",
       " 7108: 0.38334332457899195,\n",
       " 7288: -0.49472744491815357,\n",
       " 7403: 0.29417420270727607,\n",
       " 7490: 0.581918175125856,\n",
       " 7566: 0.179028718509858,\n",
       " 7571: 0.9616783115081544,\n",
       " 7723: 0.9707253433941511,\n",
       " 7757: 0.7042381820123422,\n",
       " 7766: 0.554700196225229,\n",
       " 7903: 0.11720180773462363,\n",
       " 8375: 0.937614461876989,\n",
       " 8619: 0.8492077756084467,\n",
       " 8804: 0.8156473902861853,\n",
       " 8932: 0.8270024198763806,\n",
       " 8946: 0.14617633655117165,\n",
       " 9022: 0.8320502943378436,\n",
       " 9522: 0.5370861555295747,\n",
       " 9539: -0.21926450482675575,\n",
       " 9678: 0.8951435925492954,\n",
       " 9809: 0.7112333251538234,\n",
       " 9835: 0.04523081376574623,\n",
       " 9852: 0.3288967572401365,\n",
       " 10033: 0.8780541105074453,\n",
       " 10045: 0.49334513586020373,\n",
       " 10106: 0.657793514480273,\n",
       " 10115: 0.6577935144802716,\n",
       " 10287: 0.43852900965351443,\n",
       " 10325: 0.8666253521790719,\n",
       " 10348: 0.8770580193070306,\n",
       " 10493: 0.7666866491579839,\n",
       " 10496: 0.8204126541423654,\n",
       " 10633: 0.6020183016345595,\n",
       " 10675: 0.22562131409856986,\n",
       " 10764: 0.485812706723472,\n",
       " 10808: -0.08006407690254357,\n",
       " 10904: 0.6361464251628642,\n",
       " 10960: 0.9616783115081544,\n",
       " 11074: 0.548161262066893,\n",
       " 11144: 0.8222418931003396,\n",
       " 11258: 0.4688072309384945,\n",
       " 11312: 0.7674257668936502,\n",
       " 11495: 0.9830917698810676}"
      ]
     },
     "execution_count": 38,
     "metadata": {},
     "output_type": "execute_result"
    }
   ],
   "source": [
    "pearsonCorrelationDict"
   ]
  },
  {
   "cell_type": "markdown",
   "id": "ae20d4fd",
   "metadata": {
    "papermill": {
     "duration": 0.014393,
     "end_time": "2025-06-02T19:11:56.828912",
     "exception": false,
     "start_time": "2025-06-02T19:11:56.814519",
     "status": "completed"
    },
    "tags": []
   },
   "source": [
    "making a dataframe from pearson dict verticaly"
   ]
  },
  {
   "cell_type": "code",
   "execution_count": 39,
   "id": "f9f96fe3",
   "metadata": {
    "execution": {
     "iopub.execute_input": "2025-06-02T19:11:56.859377Z",
     "iopub.status.busy": "2025-06-02T19:11:56.859058Z",
     "iopub.status.idle": "2025-06-02T19:11:56.869283Z",
     "shell.execute_reply": "2025-06-02T19:11:56.868493Z"
    },
    "papermill": {
     "duration": 0.027087,
     "end_time": "2025-06-02T19:11:56.870650",
     "exception": false,
     "start_time": "2025-06-02T19:11:56.843563",
     "status": "completed"
    },
    "tags": []
   },
   "outputs": [
    {
     "data": {
      "text/html": [
       "<div>\n",
       "<style scoped>\n",
       "    .dataframe tbody tr th:only-of-type {\n",
       "        vertical-align: middle;\n",
       "    }\n",
       "\n",
       "    .dataframe tbody tr th {\n",
       "        vertical-align: top;\n",
       "    }\n",
       "\n",
       "    .dataframe thead th {\n",
       "        text-align: right;\n",
       "    }\n",
       "</style>\n",
       "<table border=\"1\" class=\"dataframe\">\n",
       "  <thead>\n",
       "    <tr style=\"text-align: right;\">\n",
       "      <th></th>\n",
       "      <th>similarityIndex</th>\n",
       "      <th>userId</th>\n",
       "    </tr>\n",
       "  </thead>\n",
       "  <tbody>\n",
       "    <tr>\n",
       "      <th>0</th>\n",
       "      <td>0.946029</td>\n",
       "      <td>43</td>\n",
       "    </tr>\n",
       "    <tr>\n",
       "      <th>1</th>\n",
       "      <td>0.328897</td>\n",
       "      <td>171</td>\n",
       "    </tr>\n",
       "    <tr>\n",
       "      <th>2</th>\n",
       "      <td>0.961538</td>\n",
       "      <td>440</td>\n",
       "    </tr>\n",
       "    <tr>\n",
       "      <th>3</th>\n",
       "      <td>0.468807</td>\n",
       "      <td>597</td>\n",
       "    </tr>\n",
       "    <tr>\n",
       "      <th>4</th>\n",
       "      <td>0.877058</td>\n",
       "      <td>695</td>\n",
       "    </tr>\n",
       "  </tbody>\n",
       "</table>\n",
       "</div>"
      ],
      "text/plain": [
       "   similarityIndex  userId\n",
       "0         0.946029      43\n",
       "1         0.328897     171\n",
       "2         0.961538     440\n",
       "3         0.468807     597\n",
       "4         0.877058     695"
      ]
     },
     "execution_count": 39,
     "metadata": {},
     "output_type": "execute_result"
    }
   ],
   "source": [
    "#converting every key and value in pearson dict to a dataframe, every row for 1 key vertically\n",
    "pearsonDF = pd.DataFrame.from_dict(pearsonCorrelationDict, orient='index')\n",
    "#renaming the dataframe column\n",
    "pearsonDF.columns = ['similarityIndex']\n",
    "#creating new column named userId and having the values of index\n",
    "pearsonDF['userId'] = pearsonDF.index\n",
    "#making the index new and easy to work\n",
    "pearsonDF.index = range(len(pearsonDF))\n",
    "pearsonDF.head()"
   ]
  },
  {
   "cell_type": "markdown",
   "id": "551e5c50",
   "metadata": {
    "papermill": {
     "duration": 0.014429,
     "end_time": "2025-06-02T19:11:56.900360",
     "exception": false,
     "start_time": "2025-06-02T19:11:56.885931",
     "status": "completed"
    },
    "tags": []
   },
   "source": [
    "sorting ascending by similarity"
   ]
  },
  {
   "cell_type": "code",
   "execution_count": 40,
   "id": "7a9d62c1",
   "metadata": {
    "execution": {
     "iopub.execute_input": "2025-06-02T19:11:56.931287Z",
     "iopub.status.busy": "2025-06-02T19:11:56.930592Z",
     "iopub.status.idle": "2025-06-02T19:11:56.939542Z",
     "shell.execute_reply": "2025-06-02T19:11:56.938711Z"
    },
    "papermill": {
     "duration": 0.025968,
     "end_time": "2025-06-02T19:11:56.940900",
     "exception": false,
     "start_time": "2025-06-02T19:11:56.914932",
     "status": "completed"
    },
    "tags": []
   },
   "outputs": [
    {
     "data": {
      "text/html": [
       "<div>\n",
       "<style scoped>\n",
       "    .dataframe tbody tr th:only-of-type {\n",
       "        vertical-align: middle;\n",
       "    }\n",
       "\n",
       "    .dataframe tbody tr th {\n",
       "        vertical-align: top;\n",
       "    }\n",
       "\n",
       "    .dataframe thead th {\n",
       "        text-align: right;\n",
       "    }\n",
       "</style>\n",
       "<table border=\"1\" class=\"dataframe\">\n",
       "  <thead>\n",
       "    <tr style=\"text-align: right;\">\n",
       "      <th></th>\n",
       "      <th>similarityIndex</th>\n",
       "      <th>userId</th>\n",
       "    </tr>\n",
       "  </thead>\n",
       "  <tbody>\n",
       "    <tr>\n",
       "      <th>99</th>\n",
       "      <td>0.983092</td>\n",
       "      <td>11495</td>\n",
       "    </tr>\n",
       "    <tr>\n",
       "      <th>64</th>\n",
       "      <td>0.970725</td>\n",
       "      <td>7723</td>\n",
       "    </tr>\n",
       "    <tr>\n",
       "      <th>55</th>\n",
       "      <td>0.962435</td>\n",
       "      <td>6550</td>\n",
       "    </tr>\n",
       "    <tr>\n",
       "      <th>94</th>\n",
       "      <td>0.961678</td>\n",
       "      <td>10960</td>\n",
       "    </tr>\n",
       "    <tr>\n",
       "      <th>63</th>\n",
       "      <td>0.961678</td>\n",
       "      <td>7571</td>\n",
       "    </tr>\n",
       "  </tbody>\n",
       "</table>\n",
       "</div>"
      ],
      "text/plain": [
       "    similarityIndex  userId\n",
       "99         0.983092   11495\n",
       "64         0.970725    7723\n",
       "55         0.962435    6550\n",
       "94         0.961678   10960\n",
       "63         0.961678    7571"
      ]
     },
     "execution_count": 40,
     "metadata": {},
     "output_type": "execute_result"
    }
   ],
   "source": [
    "topUsers=pearsonDF.sort_values(by='similarityIndex', ascending=False)[0:50]\n",
    "topUsers.head()"
   ]
  },
  {
   "cell_type": "markdown",
   "id": "1fa08b5a",
   "metadata": {
    "papermill": {
     "duration": 0.014688,
     "end_time": "2025-06-02T19:11:56.970897",
     "exception": false,
     "start_time": "2025-06-02T19:11:56.956209",
     "status": "completed"
    },
    "tags": []
   },
   "source": [
    "Combining top users and ratings based on same userId"
   ]
  },
  {
   "cell_type": "code",
   "execution_count": 41,
   "id": "16695f71",
   "metadata": {
    "execution": {
     "iopub.execute_input": "2025-06-02T19:11:57.001662Z",
     "iopub.status.busy": "2025-06-02T19:11:57.001368Z",
     "iopub.status.idle": "2025-06-02T19:11:57.782195Z",
     "shell.execute_reply": "2025-06-02T19:11:57.781162Z"
    },
    "papermill": {
     "duration": 0.798151,
     "end_time": "2025-06-02T19:11:57.783701",
     "exception": false,
     "start_time": "2025-06-02T19:11:56.985550",
     "status": "completed"
    },
    "tags": []
   },
   "outputs": [
    {
     "data": {
      "text/html": [
       "<div>\n",
       "<style scoped>\n",
       "    .dataframe tbody tr th:only-of-type {\n",
       "        vertical-align: middle;\n",
       "    }\n",
       "\n",
       "    .dataframe tbody tr th {\n",
       "        vertical-align: top;\n",
       "    }\n",
       "\n",
       "    .dataframe thead th {\n",
       "        text-align: right;\n",
       "    }\n",
       "</style>\n",
       "<table border=\"1\" class=\"dataframe\">\n",
       "  <thead>\n",
       "    <tr style=\"text-align: right;\">\n",
       "      <th></th>\n",
       "      <th>similarityIndex</th>\n",
       "      <th>userId</th>\n",
       "      <th>movieId</th>\n",
       "      <th>rating</th>\n",
       "    </tr>\n",
       "  </thead>\n",
       "  <tbody>\n",
       "    <tr>\n",
       "      <th>0</th>\n",
       "      <td>0.983092</td>\n",
       "      <td>11495</td>\n",
       "      <td>1</td>\n",
       "      <td>3.0</td>\n",
       "    </tr>\n",
       "    <tr>\n",
       "      <th>1</th>\n",
       "      <td>0.983092</td>\n",
       "      <td>11495</td>\n",
       "      <td>2</td>\n",
       "      <td>1.0</td>\n",
       "    </tr>\n",
       "    <tr>\n",
       "      <th>2</th>\n",
       "      <td>0.983092</td>\n",
       "      <td>11495</td>\n",
       "      <td>6</td>\n",
       "      <td>4.5</td>\n",
       "    </tr>\n",
       "    <tr>\n",
       "      <th>3</th>\n",
       "      <td>0.983092</td>\n",
       "      <td>11495</td>\n",
       "      <td>10</td>\n",
       "      <td>4.5</td>\n",
       "    </tr>\n",
       "    <tr>\n",
       "      <th>4</th>\n",
       "      <td>0.983092</td>\n",
       "      <td>11495</td>\n",
       "      <td>16</td>\n",
       "      <td>4.5</td>\n",
       "    </tr>\n",
       "  </tbody>\n",
       "</table>\n",
       "</div>"
      ],
      "text/plain": [
       "   similarityIndex  userId  movieId  rating\n",
       "0         0.983092   11495        1     3.0\n",
       "1         0.983092   11495        2     1.0\n",
       "2         0.983092   11495        6     4.5\n",
       "3         0.983092   11495       10     4.5\n",
       "4         0.983092   11495       16     4.5"
      ]
     },
     "execution_count": 41,
     "metadata": {},
     "output_type": "execute_result"
    }
   ],
   "source": [
    "topUsersRating=topUsers.merge(ratings_df, left_on='userId', right_on='userId', how='inner')\n",
    "topUsersRating.head()"
   ]
  },
  {
   "cell_type": "markdown",
   "id": "4d6ee32c",
   "metadata": {
    "papermill": {
     "duration": 0.015697,
     "end_time": "2025-06-02T19:11:57.815450",
     "exception": false,
     "start_time": "2025-06-02T19:11:57.799753",
     "status": "completed"
    },
    "tags": []
   },
   "source": [
    "Multiplying similarity matrix and Weighted Ratings matrix making Rating and Weighted Matrix"
   ]
  },
  {
   "cell_type": "code",
   "execution_count": 42,
   "id": "388d8996",
   "metadata": {
    "execution": {
     "iopub.execute_input": "2025-06-02T19:11:57.847727Z",
     "iopub.status.busy": "2025-06-02T19:11:57.847029Z",
     "iopub.status.idle": "2025-06-02T19:11:57.858225Z",
     "shell.execute_reply": "2025-06-02T19:11:57.857334Z"
    },
    "papermill": {
     "duration": 0.029303,
     "end_time": "2025-06-02T19:11:57.859891",
     "exception": false,
     "start_time": "2025-06-02T19:11:57.830588",
     "status": "completed"
    },
    "tags": []
   },
   "outputs": [
    {
     "data": {
      "text/html": [
       "<div>\n",
       "<style scoped>\n",
       "    .dataframe tbody tr th:only-of-type {\n",
       "        vertical-align: middle;\n",
       "    }\n",
       "\n",
       "    .dataframe tbody tr th {\n",
       "        vertical-align: top;\n",
       "    }\n",
       "\n",
       "    .dataframe thead th {\n",
       "        text-align: right;\n",
       "    }\n",
       "</style>\n",
       "<table border=\"1\" class=\"dataframe\">\n",
       "  <thead>\n",
       "    <tr style=\"text-align: right;\">\n",
       "      <th></th>\n",
       "      <th>similarityIndex</th>\n",
       "      <th>userId</th>\n",
       "      <th>movieId</th>\n",
       "      <th>rating</th>\n",
       "      <th>weightedRating</th>\n",
       "    </tr>\n",
       "  </thead>\n",
       "  <tbody>\n",
       "    <tr>\n",
       "      <th>0</th>\n",
       "      <td>0.983092</td>\n",
       "      <td>11495</td>\n",
       "      <td>1</td>\n",
       "      <td>3.0</td>\n",
       "      <td>2.949275</td>\n",
       "    </tr>\n",
       "    <tr>\n",
       "      <th>1</th>\n",
       "      <td>0.983092</td>\n",
       "      <td>11495</td>\n",
       "      <td>2</td>\n",
       "      <td>1.0</td>\n",
       "      <td>0.983092</td>\n",
       "    </tr>\n",
       "    <tr>\n",
       "      <th>2</th>\n",
       "      <td>0.983092</td>\n",
       "      <td>11495</td>\n",
       "      <td>6</td>\n",
       "      <td>4.5</td>\n",
       "      <td>4.423913</td>\n",
       "    </tr>\n",
       "    <tr>\n",
       "      <th>3</th>\n",
       "      <td>0.983092</td>\n",
       "      <td>11495</td>\n",
       "      <td>10</td>\n",
       "      <td>4.5</td>\n",
       "      <td>4.423913</td>\n",
       "    </tr>\n",
       "    <tr>\n",
       "      <th>4</th>\n",
       "      <td>0.983092</td>\n",
       "      <td>11495</td>\n",
       "      <td>16</td>\n",
       "      <td>4.5</td>\n",
       "      <td>4.423913</td>\n",
       "    </tr>\n",
       "  </tbody>\n",
       "</table>\n",
       "</div>"
      ],
      "text/plain": [
       "   similarityIndex  userId  movieId  rating  weightedRating\n",
       "0         0.983092   11495        1     3.0        2.949275\n",
       "1         0.983092   11495        2     1.0        0.983092\n",
       "2         0.983092   11495        6     4.5        4.423913\n",
       "3         0.983092   11495       10     4.5        4.423913\n",
       "4         0.983092   11495       16     4.5        4.423913"
      ]
     },
     "execution_count": 42,
     "metadata": {},
     "output_type": "execute_result"
    }
   ],
   "source": [
    "#Multiplies the similarity by the user's ratings\n",
    "topUsersRating['weightedRating'] = topUsersRating['similarityIndex']*topUsersRating['rating']\n",
    "topUsersRating.head()"
   ]
  },
  {
   "cell_type": "markdown",
   "id": "863b63dc",
   "metadata": {
    "papermill": {
     "duration": 0.014975,
     "end_time": "2025-06-02T19:11:57.890486",
     "exception": false,
     "start_time": "2025-06-02T19:11:57.875511",
     "status": "completed"
    },
    "tags": []
   },
   "source": [
    "Making a temporary dataframe grouped by every movie and multiplied by similarity and ratings making weighted sum"
   ]
  },
  {
   "cell_type": "code",
   "execution_count": 43,
   "id": "48730daf",
   "metadata": {
    "execution": {
     "iopub.execute_input": "2025-06-02T19:11:57.922296Z",
     "iopub.status.busy": "2025-06-02T19:11:57.921971Z",
     "iopub.status.idle": "2025-06-02T19:11:57.942487Z",
     "shell.execute_reply": "2025-06-02T19:11:57.941616Z"
    },
    "papermill": {
     "duration": 0.038259,
     "end_time": "2025-06-02T19:11:57.944028",
     "exception": false,
     "start_time": "2025-06-02T19:11:57.905769",
     "status": "completed"
    },
    "tags": []
   },
   "outputs": [
    {
     "data": {
      "text/html": [
       "<div>\n",
       "<style scoped>\n",
       "    .dataframe tbody tr th:only-of-type {\n",
       "        vertical-align: middle;\n",
       "    }\n",
       "\n",
       "    .dataframe tbody tr th {\n",
       "        vertical-align: top;\n",
       "    }\n",
       "\n",
       "    .dataframe thead th {\n",
       "        text-align: right;\n",
       "    }\n",
       "</style>\n",
       "<table border=\"1\" class=\"dataframe\">\n",
       "  <thead>\n",
       "    <tr style=\"text-align: right;\">\n",
       "      <th></th>\n",
       "      <th>sum_similarityIndex</th>\n",
       "      <th>sum_weightedRating</th>\n",
       "    </tr>\n",
       "    <tr>\n",
       "      <th>movieId</th>\n",
       "      <th></th>\n",
       "      <th></th>\n",
       "    </tr>\n",
       "  </thead>\n",
       "  <tbody>\n",
       "    <tr>\n",
       "      <th>1</th>\n",
       "      <td>39.973168</td>\n",
       "      <td>152.887748</td>\n",
       "    </tr>\n",
       "    <tr>\n",
       "      <th>2</th>\n",
       "      <td>39.973168</td>\n",
       "      <td>98.535608</td>\n",
       "    </tr>\n",
       "    <tr>\n",
       "      <th>3</th>\n",
       "      <td>12.129644</td>\n",
       "      <td>31.955678</td>\n",
       "    </tr>\n",
       "    <tr>\n",
       "      <th>4</th>\n",
       "      <td>2.447945</td>\n",
       "      <td>5.662576</td>\n",
       "    </tr>\n",
       "    <tr>\n",
       "      <th>5</th>\n",
       "      <td>11.355650</td>\n",
       "      <td>23.548374</td>\n",
       "    </tr>\n",
       "  </tbody>\n",
       "</table>\n",
       "</div>"
      ],
      "text/plain": [
       "         sum_similarityIndex  sum_weightedRating\n",
       "movieId                                         \n",
       "1                  39.973168          152.887748\n",
       "2                  39.973168           98.535608\n",
       "3                  12.129644           31.955678\n",
       "4                   2.447945            5.662576\n",
       "5                  11.355650           23.548374"
      ]
     },
     "execution_count": 43,
     "metadata": {},
     "output_type": "execute_result"
    }
   ],
   "source": [
    "#Applies a sum to the topUsers after grouping it up by userId\n",
    "tempTopUsersRating = topUsersRating.groupby('movieId').sum()[['similarityIndex','weightedRating']]\n",
    "tempTopUsersRating.columns = ['sum_similarityIndex','sum_weightedRating']\n",
    "tempTopUsersRating.head()"
   ]
  },
  {
   "cell_type": "markdown",
   "id": "70dfbd12",
   "metadata": {
    "papermill": {
     "duration": 0.015307,
     "end_time": "2025-06-02T19:11:57.975258",
     "exception": false,
     "start_time": "2025-06-02T19:11:57.959951",
     "status": "completed"
    },
    "tags": []
   },
   "source": [
    "making the recommendation matrix by using the formula "
   ]
  },
  {
   "cell_type": "code",
   "execution_count": 44,
   "id": "432f3558",
   "metadata": {
    "execution": {
     "iopub.execute_input": "2025-06-02T19:11:58.007067Z",
     "iopub.status.busy": "2025-06-02T19:11:58.006743Z",
     "iopub.status.idle": "2025-06-02T19:11:58.025342Z",
     "shell.execute_reply": "2025-06-02T19:11:58.024487Z"
    },
    "papermill": {
     "duration": 0.036349,
     "end_time": "2025-06-02T19:11:58.026807",
     "exception": false,
     "start_time": "2025-06-02T19:11:57.990458",
     "status": "completed"
    },
    "tags": []
   },
   "outputs": [
    {
     "data": {
      "text/html": [
       "<div>\n",
       "<style scoped>\n",
       "    .dataframe tbody tr th:only-of-type {\n",
       "        vertical-align: middle;\n",
       "    }\n",
       "\n",
       "    .dataframe tbody tr th {\n",
       "        vertical-align: top;\n",
       "    }\n",
       "\n",
       "    .dataframe thead th {\n",
       "        text-align: right;\n",
       "    }\n",
       "</style>\n",
       "<table border=\"1\" class=\"dataframe\">\n",
       "  <thead>\n",
       "    <tr style=\"text-align: right;\">\n",
       "      <th></th>\n",
       "      <th>weighted average recommendation score</th>\n",
       "      <th>movieId</th>\n",
       "    </tr>\n",
       "    <tr>\n",
       "      <th>movieId</th>\n",
       "      <th></th>\n",
       "      <th></th>\n",
       "    </tr>\n",
       "  </thead>\n",
       "  <tbody>\n",
       "    <tr>\n",
       "      <th>1</th>\n",
       "      <td>3.824759</td>\n",
       "      <td>1</td>\n",
       "    </tr>\n",
       "    <tr>\n",
       "      <th>2</th>\n",
       "      <td>2.465044</td>\n",
       "      <td>2</td>\n",
       "    </tr>\n",
       "    <tr>\n",
       "      <th>3</th>\n",
       "      <td>2.634511</td>\n",
       "      <td>3</td>\n",
       "    </tr>\n",
       "    <tr>\n",
       "      <th>4</th>\n",
       "      <td>2.313196</td>\n",
       "      <td>4</td>\n",
       "    </tr>\n",
       "    <tr>\n",
       "      <th>5</th>\n",
       "      <td>2.073714</td>\n",
       "      <td>5</td>\n",
       "    </tr>\n",
       "  </tbody>\n",
       "</table>\n",
       "</div>"
      ],
      "text/plain": [
       "         weighted average recommendation score  movieId\n",
       "movieId                                                \n",
       "1                                     3.824759        1\n",
       "2                                     2.465044        2\n",
       "3                                     2.634511        3\n",
       "4                                     2.313196        4\n",
       "5                                     2.073714        5"
      ]
     },
     "execution_count": 44,
     "metadata": {},
     "output_type": "execute_result"
    }
   ],
   "source": [
    "#Creates an empty dataframe\n",
    "recommendation_df = pd.DataFrame()\n",
    "#Now we take the weighted average\n",
    "recommendation_df['weighted average recommendation score'] = tempTopUsersRating['sum_weightedRating']/tempTopUsersRating['sum_similarityIndex']\n",
    "recommendation_df['movieId'] = tempTopUsersRating.index\n",
    "recommendation_df.head()"
   ]
  },
  {
   "cell_type": "markdown",
   "id": "c0f15e5f",
   "metadata": {
    "papermill": {
     "duration": 0.015459,
     "end_time": "2025-06-02T19:11:58.057873",
     "exception": false,
     "start_time": "2025-06-02T19:11:58.042414",
     "status": "completed"
    },
    "tags": []
   },
   "source": [
    "soritng and Recommendation matrix based on Weight sum"
   ]
  },
  {
   "cell_type": "code",
   "execution_count": 45,
   "id": "8b6eed59",
   "metadata": {
    "execution": {
     "iopub.execute_input": "2025-06-02T19:11:58.090264Z",
     "iopub.status.busy": "2025-06-02T19:11:58.089926Z",
     "iopub.status.idle": "2025-06-02T19:11:58.100938Z",
     "shell.execute_reply": "2025-06-02T19:11:58.100052Z"
    },
    "papermill": {
     "duration": 0.029103,
     "end_time": "2025-06-02T19:11:58.102511",
     "exception": false,
     "start_time": "2025-06-02T19:11:58.073408",
     "status": "completed"
    },
    "tags": []
   },
   "outputs": [
    {
     "data": {
      "text/html": [
       "<div>\n",
       "<style scoped>\n",
       "    .dataframe tbody tr th:only-of-type {\n",
       "        vertical-align: middle;\n",
       "    }\n",
       "\n",
       "    .dataframe tbody tr th {\n",
       "        vertical-align: top;\n",
       "    }\n",
       "\n",
       "    .dataframe thead th {\n",
       "        text-align: right;\n",
       "    }\n",
       "</style>\n",
       "<table border=\"1\" class=\"dataframe\">\n",
       "  <thead>\n",
       "    <tr style=\"text-align: right;\">\n",
       "      <th></th>\n",
       "      <th>weighted average recommendation score</th>\n",
       "      <th>movieId</th>\n",
       "    </tr>\n",
       "    <tr>\n",
       "      <th>movieId</th>\n",
       "      <th></th>\n",
       "      <th></th>\n",
       "    </tr>\n",
       "  </thead>\n",
       "  <tbody>\n",
       "    <tr>\n",
       "      <th>70927</th>\n",
       "      <td>5.0</td>\n",
       "      <td>70927</td>\n",
       "    </tr>\n",
       "    <tr>\n",
       "      <th>111235</th>\n",
       "      <td>5.0</td>\n",
       "      <td>111235</td>\n",
       "    </tr>\n",
       "    <tr>\n",
       "      <th>2931</th>\n",
       "      <td>5.0</td>\n",
       "      <td>2931</td>\n",
       "    </tr>\n",
       "    <tr>\n",
       "      <th>6660</th>\n",
       "      <td>5.0</td>\n",
       "      <td>6660</td>\n",
       "    </tr>\n",
       "    <tr>\n",
       "      <th>1169</th>\n",
       "      <td>5.0</td>\n",
       "      <td>1169</td>\n",
       "    </tr>\n",
       "    <tr>\n",
       "      <th>299</th>\n",
       "      <td>5.0</td>\n",
       "      <td>299</td>\n",
       "    </tr>\n",
       "    <tr>\n",
       "      <th>96606</th>\n",
       "      <td>5.0</td>\n",
       "      <td>96606</td>\n",
       "    </tr>\n",
       "    <tr>\n",
       "      <th>6583</th>\n",
       "      <td>5.0</td>\n",
       "      <td>6583</td>\n",
       "    </tr>\n",
       "    <tr>\n",
       "      <th>320</th>\n",
       "      <td>5.0</td>\n",
       "      <td>320</td>\n",
       "    </tr>\n",
       "    <tr>\n",
       "      <th>84952</th>\n",
       "      <td>5.0</td>\n",
       "      <td>84952</td>\n",
       "    </tr>\n",
       "  </tbody>\n",
       "</table>\n",
       "</div>"
      ],
      "text/plain": [
       "         weighted average recommendation score  movieId\n",
       "movieId                                                \n",
       "70927                                      5.0    70927\n",
       "111235                                     5.0   111235\n",
       "2931                                       5.0     2931\n",
       "6660                                       5.0     6660\n",
       "1169                                       5.0     1169\n",
       "299                                        5.0      299\n",
       "96606                                      5.0    96606\n",
       "6583                                       5.0     6583\n",
       "320                                        5.0      320\n",
       "84952                                      5.0    84952"
      ]
     },
     "execution_count": 45,
     "metadata": {},
     "output_type": "execute_result"
    }
   ],
   "source": [
    "recommendation_df = recommendation_df.sort_values(by='weighted average recommendation score', ascending=False)\n",
    "recommendation_df.head(10)"
   ]
  },
  {
   "cell_type": "markdown",
   "id": "7ce664f3",
   "metadata": {
    "papermill": {
     "duration": 0.015275,
     "end_time": "2025-06-02T19:11:58.133761",
     "exception": false,
     "start_time": "2025-06-02T19:11:58.118486",
     "status": "completed"
    },
    "tags": []
   },
   "source": [
    "Finding the names of recommended movies"
   ]
  },
  {
   "cell_type": "code",
   "execution_count": 46,
   "id": "4a606918",
   "metadata": {
    "execution": {
     "iopub.execute_input": "2025-06-02T19:11:58.166120Z",
     "iopub.status.busy": "2025-06-02T19:11:58.165799Z",
     "iopub.status.idle": "2025-06-02T19:11:58.176886Z",
     "shell.execute_reply": "2025-06-02T19:11:58.176029Z"
    },
    "papermill": {
     "duration": 0.029281,
     "end_time": "2025-06-02T19:11:58.178581",
     "exception": false,
     "start_time": "2025-06-02T19:11:58.149300",
     "status": "completed"
    },
    "tags": []
   },
   "outputs": [
    {
     "data": {
      "text/html": [
       "<div>\n",
       "<style scoped>\n",
       "    .dataframe tbody tr th:only-of-type {\n",
       "        vertical-align: middle;\n",
       "    }\n",
       "\n",
       "    .dataframe tbody tr th {\n",
       "        vertical-align: top;\n",
       "    }\n",
       "\n",
       "    .dataframe thead th {\n",
       "        text-align: right;\n",
       "    }\n",
       "</style>\n",
       "<table border=\"1\" class=\"dataframe\">\n",
       "  <thead>\n",
       "    <tr style=\"text-align: right;\">\n",
       "      <th></th>\n",
       "      <th>movieId</th>\n",
       "      <th>title</th>\n",
       "      <th>year</th>\n",
       "    </tr>\n",
       "  </thead>\n",
       "  <tbody>\n",
       "    <tr>\n",
       "      <th>295</th>\n",
       "      <td>299</td>\n",
       "      <td>Priest</td>\n",
       "      <td>1994</td>\n",
       "    </tr>\n",
       "    <tr>\n",
       "      <th>316</th>\n",
       "      <td>320</td>\n",
       "      <td>Suture</td>\n",
       "      <td>1993</td>\n",
       "    </tr>\n",
       "    <tr>\n",
       "      <th>1141</th>\n",
       "      <td>1169</td>\n",
       "      <td>American Dream</td>\n",
       "      <td>1990</td>\n",
       "    </tr>\n",
       "    <tr>\n",
       "      <th>2839</th>\n",
       "      <td>2931</td>\n",
       "      <td>Time of the Gypsies (Dom za vesanje)</td>\n",
       "      <td>1989</td>\n",
       "    </tr>\n",
       "    <tr>\n",
       "      <th>6460</th>\n",
       "      <td>6583</td>\n",
       "      <td>Blood of Heroes, The (Salute of the Jugger, The)</td>\n",
       "      <td>1989</td>\n",
       "    </tr>\n",
       "    <tr>\n",
       "      <th>6537</th>\n",
       "      <td>6660</td>\n",
       "      <td>Red Shoes, The</td>\n",
       "      <td>1948</td>\n",
       "    </tr>\n",
       "    <tr>\n",
       "      <th>13693</th>\n",
       "      <td>70927</td>\n",
       "      <td>To Each His Own Cinema (Chacun son cinéma ou C...</td>\n",
       "      <td>2007</td>\n",
       "    </tr>\n",
       "    <tr>\n",
       "      <th>16097</th>\n",
       "      <td>84952</td>\n",
       "      <td>Confessions (Kokuhaku)</td>\n",
       "      <td>2010</td>\n",
       "    </tr>\n",
       "    <tr>\n",
       "      <th>18452</th>\n",
       "      <td>96606</td>\n",
       "      <td>Samsara</td>\n",
       "      <td>2011</td>\n",
       "    </tr>\n",
       "    <tr>\n",
       "      <th>21575</th>\n",
       "      <td>111235</td>\n",
       "      <td>Jodorowsky's Dune</td>\n",
       "      <td>2013</td>\n",
       "    </tr>\n",
       "  </tbody>\n",
       "</table>\n",
       "</div>"
      ],
      "text/plain": [
       "       movieId                                              title  year\n",
       "295        299                                             Priest  1994\n",
       "316        320                                             Suture  1993\n",
       "1141      1169                                     American Dream  1990\n",
       "2839      2931               Time of the Gypsies (Dom za vesanje)  1989\n",
       "6460      6583   Blood of Heroes, The (Salute of the Jugger, The)  1989\n",
       "6537      6660                                     Red Shoes, The  1948\n",
       "13693    70927  To Each His Own Cinema (Chacun son cinéma ou C...  2007\n",
       "16097    84952                             Confessions (Kokuhaku)  2010\n",
       "18452    96606                                            Samsara  2011\n",
       "21575   111235                                  Jodorowsky's Dune  2013"
      ]
     },
     "execution_count": 46,
     "metadata": {},
     "output_type": "execute_result"
    }
   ],
   "source": [
    "movies_df.loc[movies_df['movieId'].isin(recommendation_df.head(10)['movieId'].tolist())]"
   ]
  }
 ],
 "metadata": {
  "kaggle": {
   "accelerator": "none",
   "dataSources": [
    {
     "datasetId": 3375918,
     "sourceId": 5872805,
     "sourceType": "datasetVersion"
    }
   ],
   "dockerImageVersionId": 31040,
   "isGpuEnabled": false,
   "isInternetEnabled": true,
   "language": "python",
   "sourceType": "notebook"
  },
  "kernelspec": {
   "display_name": "Python 3",
   "language": "python",
   "name": "python3"
  },
  "language_info": {
   "codemirror_mode": {
    "name": "ipython",
    "version": 3
   },
   "file_extension": ".py",
   "mimetype": "text/x-python",
   "name": "python",
   "nbconvert_exporter": "python",
   "pygments_lexer": "ipython3",
   "version": "3.11.11"
  },
  "papermill": {
   "default_parameters": {},
   "duration": 50.663186,
   "end_time": "2025-06-02T19:11:59.015336",
   "environment_variables": {},
   "exception": null,
   "input_path": "__notebook__.ipynb",
   "output_path": "__notebook__.ipynb",
   "parameters": {},
   "start_time": "2025-06-02T19:11:08.352150",
   "version": "2.6.0"
  }
 },
 "nbformat": 4,
 "nbformat_minor": 5
}
